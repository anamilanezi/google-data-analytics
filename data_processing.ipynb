{
  "cells": [
    {
      "cell_type": "markdown",
      "metadata": {
        "id": "view-in-github",
        "colab_type": "text"
      },
      "source": [
        "<a href=\"https://colab.research.google.com/github/anamilanezi/google-data-analytics/blob/main/data_processing.ipynb\" target=\"_parent\"><img src=\"https://colab.research.google.com/assets/colab-badge.svg\" alt=\"Open In Colab\"/></a>"
      ]
    },
    {
      "cell_type": "markdown",
      "metadata": {
        "id": "ir6KxhQVb8kD"
      },
      "source": [
        "# 🚲 Analysis goals:\n",
        "\n",
        "* Mean of ride_length\n",
        "* Max ride_length\n",
        "* Min ride_lenght\n",
        "* Mode of day of week\n",
        "* Replace weekday names for numbers\n",
        "* Average ride_length for members and casual riders\n",
        "* Average ride_length by day of week\n",
        "* Number of rides for users by day_of_week"
      ]
    },
    {
      "cell_type": "code",
      "execution_count": 1,
      "metadata": {
        "colab": {
          "base_uri": "https://localhost:8080/"
        },
        "id": "pMejpBlJOZab",
        "outputId": "5ee657a0-0424-4c5a-b694-15707665876b"
      },
      "outputs": [
        {
          "output_type": "stream",
          "name": "stdout",
          "text": [
            "Drive already mounted at /content/drive; to attempt to forcibly remount, call drive.mount(\"/content/drive\", force_remount=True).\n"
          ]
        }
      ],
      "source": [
        "from google.colab import drive\n",
        "drive.mount('/content/drive')"
      ]
    },
    {
      "cell_type": "markdown",
      "metadata": {
        "id": "oJahiW_iPtBV"
      },
      "source": [
        "# Importing modules and CSV files\n",
        "\n",
        "To prepare, process and analysis the data, I'm going to use the following libraries and packages:\n",
        "* [Glob](https://docs.python.org/3/library/glob.html): finds all the pathnames matching a specified pattern according to the rules used by the Unix shell;\n",
        "* [Pandas](https://pandas.pydata.org/): data cleaning, manipulation, operations and analysis\n",
        "* [Seaborn](https://seaborn.pydata.org/) and [Matplotlib](https://matplotlib.org/): data visuals"
      ]
    },
    {
      "cell_type": "code",
      "execution_count": 2,
      "metadata": {
        "id": "gsu4ZLxOQTGp"
      },
      "outputs": [],
      "source": [
        "import glob\n",
        "import pandas as pd\n",
        "import seaborn as sns\n",
        "import matplotlib.pyplot as plt\n",
        "import datetime as datetime\n",
        "from datetime import timedelta\n"
      ]
    },
    {
      "cell_type": "code",
      "execution_count": 3,
      "metadata": {
        "id": "Knng5HmioZ6M"
      },
      "outputs": [],
      "source": [
        "# Get CSV files list from a folder\n",
        "path = '/content/drive/MyDrive/Colab Notebooks/Google Capstone Project/data/raw_data'\n",
        "csv_files = glob.glob(path + \"/*.csv\")\n",
        "\n",
        "# Read each CSV file into DataFrame\n",
        "# This creates a list of dataframes\n",
        "df_list = (pd.read_csv(file) for file in csv_files)\n",
        "\n",
        "# Concatenate all DataFrames\n",
        "big_df = pd.concat(df_list, ignore_index=True)"
      ]
    },
    {
      "cell_type": "markdown",
      "metadata": {
        "id": "puKDEhN3Qnx0"
      },
      "source": [
        "# ✅ Data preparation and cleaning"
      ]
    },
    {
      "cell_type": "markdown",
      "metadata": {
        "id": "-UKPXxCb03i0"
      },
      "source": [
        "## Cheking for NaN Values\n",
        "\n",
        "`.count()` gives the number of non-NA cells for each column or row."
      ]
    },
    {
      "cell_type": "code",
      "execution_count": 4,
      "metadata": {
        "colab": {
          "base_uri": "https://localhost:8080/"
        },
        "id": "dWoMvHF6QaTa",
        "outputId": "b4070576-b405-4c15-976a-f76ac9f7354b"
      },
      "outputs": [
        {
          "output_type": "execute_result",
          "data": {
            "text/plain": [
              "ride_id               5900385\n",
              "rideable_type         5900385\n",
              "started_at            5900385\n",
              "ended_at              5900385\n",
              "start_station_name    5064367\n",
              "start_station_id      5064370\n",
              "end_station_name      5008282\n",
              "end_station_id        5008282\n",
              "start_lat             5900385\n",
              "start_lng             5900385\n",
              "end_lat               5895011\n",
              "end_lng               5895011\n",
              "member_casual         5900385\n",
              "dtype: int64"
            ]
          },
          "metadata": {},
          "execution_count": 4
        }
      ],
      "source": [
        "big_df.count()"
      ]
    },
    {
      "cell_type": "code",
      "execution_count": 5,
      "metadata": {
        "colab": {
          "base_uri": "https://localhost:8080/"
        },
        "id": "-zH9ePWqRk-U",
        "outputId": "5b3bde3e-f830-44b7-8de4-d701af5df30c"
      },
      "outputs": [
        {
          "output_type": "stream",
          "name": "stdout",
          "text": [
            "[ride_id] has 0 NaN values\n",
            "[rideable_type] has 0 NaN values\n",
            "[started_at] has 0 NaN values\n",
            "[ended_at] has 0 NaN values\n",
            "[start_station_name] has 836018 NaN values\n",
            "[start_station_id] has 836015 NaN values\n",
            "[end_station_name] has 892103 NaN values\n",
            "[end_station_id] has 892103 NaN values\n",
            "[start_lat] has 0 NaN values\n",
            "[start_lng] has 0 NaN values\n",
            "[end_lat] has 5374 NaN values\n",
            "[end_lng] has 5374 NaN values\n",
            "[member_casual] has 0 NaN values\n"
          ]
        }
      ],
      "source": [
        "columns = list(big_df.columns)\n",
        "\n",
        "for column in columns:\n",
        "  total_nan = big_df[column].isna().sum()\n",
        "  print(f\"[{column}] has {total_nan} NaN values\")\n"
      ]
    },
    {
      "cell_type": "markdown",
      "metadata": {
        "id": "Vf5pL5_YRBwD"
      },
      "source": [
        "Since the total of NaN values for the coluns `'start_station_name'`, `'start_station_id'`, `'end_station_name'` and `end_station_id'` represents 14.17% of rows, I'll maintain these records for the analysis. For the most part there is latitude and longitude values for both start and end points, those should give us enough information, and the records with NaN values for latitude and longitude (0.09% of total records) will be deleted."
      ]
    },
    {
      "cell_type": "code",
      "execution_count": 6,
      "metadata": {
        "id": "J1nuKqsCOSd9"
      },
      "outputs": [],
      "source": [
        "df = big_df[['ride_id', 'rideable_type', 'started_at', 'ended_at', 'member_casual']]"
      ]
    },
    {
      "cell_type": "code",
      "execution_count": 7,
      "metadata": {
        "id": "F-gmD_ZJTr0Y"
      },
      "outputs": [],
      "source": [
        "df = df.dropna()"
      ]
    },
    {
      "cell_type": "code",
      "execution_count": 8,
      "metadata": {
        "colab": {
          "base_uri": "https://localhost:8080/"
        },
        "id": "yRZ5sZ_DPCeD",
        "outputId": "cfe0e74b-d02e-49d2-d88c-ad52f5616db2"
      },
      "outputs": [
        {
          "output_type": "execute_result",
          "data": {
            "text/plain": [
              "ride_id          5900385\n",
              "rideable_type    5900385\n",
              "started_at       5900385\n",
              "ended_at         5900385\n",
              "member_casual    5900385\n",
              "dtype: int64"
            ]
          },
          "metadata": {},
          "execution_count": 8
        }
      ],
      "source": [
        "df.count()"
      ]
    },
    {
      "cell_type": "code",
      "execution_count": 9,
      "metadata": {
        "colab": {
          "base_uri": "https://localhost:8080/"
        },
        "id": "uEt5DFTBUDZG",
        "outputId": "50e9d03f-5310-499b-fd36-5cb7b70ed46a"
      },
      "outputs": [
        {
          "output_type": "stream",
          "name": "stdout",
          "text": [
            "[ride_id] has 0 NaN values\n",
            "[rideable_type] has 0 NaN values\n",
            "[started_at] has 0 NaN values\n",
            "[ended_at] has 0 NaN values\n",
            "[member_casual] has 0 NaN values\n"
          ]
        }
      ],
      "source": [
        "columns = list(df.columns)\n",
        "\n",
        "for column in columns:\n",
        "  total_nan = df[column].isna().sum()\n",
        "  print(f\"[{column}] has {total_nan} NaN values\")"
      ]
    },
    {
      "cell_type": "markdown",
      "metadata": {
        "id": "zoLBqjmO1aqw"
      },
      "source": [
        "## Finding duplicates:"
      ]
    },
    {
      "cell_type": "code",
      "execution_count": 10,
      "metadata": {
        "colab": {
          "base_uri": "https://localhost:8080/"
        },
        "id": "jIO03kd00gK9",
        "outputId": "0669b451-d6da-4f8f-89bb-ab4d74b6ff84"
      },
      "outputs": [
        {
          "output_type": "execute_result",
          "data": {
            "text/plain": [
              "False"
            ]
          },
          "metadata": {},
          "execution_count": 10
        }
      ],
      "source": [
        "df.duplicated().any()"
      ]
    },
    {
      "cell_type": "markdown",
      "metadata": {
        "id": "300VLE6jOSeA"
      },
      "source": [
        "## Convert date column from string to datetime"
      ]
    },
    {
      "cell_type": "code",
      "execution_count": 11,
      "metadata": {
        "id": "djVmstbBOSeD"
      },
      "outputs": [],
      "source": [
        "df['started_at'] = pd.to_datetime(df['started_at'], format='%Y-%m-%d %H:%M:%S')"
      ]
    },
    {
      "cell_type": "code",
      "execution_count": 12,
      "metadata": {
        "id": "M9b3WoxsOSeE"
      },
      "outputs": [],
      "source": [
        "df['ended_at'] = pd.to_datetime(df['ended_at'], format='%Y-%m-%d %H:%M:%S')"
      ]
    },
    {
      "cell_type": "code",
      "execution_count": 13,
      "metadata": {
        "colab": {
          "base_uri": "https://localhost:8080/"
        },
        "id": "IFOVeBtTOSeE",
        "outputId": "11dc0e99-d0c6-49bb-f2a5-431c49ff14b5",
        "scrolled": true
      },
      "outputs": [
        {
          "output_type": "stream",
          "name": "stdout",
          "text": [
            "ride_id                  object\n",
            "rideable_type            object\n",
            "started_at       datetime64[ns]\n",
            "ended_at         datetime64[ns]\n",
            "member_casual            object\n",
            "dtype: object\n"
          ]
        }
      ],
      "source": [
        "print(df.dtypes)"
      ]
    },
    {
      "cell_type": "markdown",
      "metadata": {
        "id": "J6pfOVzxOSeG"
      },
      "source": [
        "## Creating new columns from date information"
      ]
    },
    {
      "cell_type": "markdown",
      "metadata": {
        "id": "2ef9lzzF3Ac-"
      },
      "source": [
        "### Get day of week each ride started and turning into numerical column"
      ]
    },
    {
      "cell_type": "code",
      "execution_count": 14,
      "metadata": {
        "id": "IslRChOyOSeJ"
      },
      "outputs": [],
      "source": [
        "# Get the day of week that each ride started\n",
        "df['day_of_week'] = df['started_at'].dt.day_name()"
      ]
    },
    {
      "cell_type": "code",
      "execution_count": 15,
      "metadata": {
        "colab": {
          "base_uri": "https://localhost:8080/"
        },
        "id": "wFfUvAy5t3ZN",
        "outputId": "be707a66-bb9e-40cf-90ee-0bd00c4ee2a9"
      },
      "outputs": [
        {
          "output_type": "stream",
          "name": "stdout",
          "text": [
            "{'Monday': 1, 'Tuesday': 2, 'Wednesday': 3, 'Thursday': 4, 'Friday': 5, 'Saturday': 6, 'Sunday': 7}\n"
          ]
        }
      ],
      "source": [
        "# Turning day of week into a numerical column\n",
        "import calendar\n",
        "days = {name: i + 1 for i, name in enumerate(calendar.day_name)}\n",
        "print(days)"
      ]
    },
    {
      "cell_type": "code",
      "execution_count": 16,
      "metadata": {
        "id": "xQWg07XBmn8r"
      },
      "outputs": [],
      "source": [
        "df['int_day_of_week'] = df['day_of_week'].apply(lambda x: days[x] if x == x else x)"
      ]
    },
    {
      "cell_type": "code",
      "execution_count": 17,
      "metadata": {
        "id": "sHjTKQRGWh51"
      },
      "outputs": [],
      "source": [
        "days_order = ['Monday', 'Tuesday', 'Wednesday', 'Thursday', 'Friday', 'Saturday', 'Sunday']"
      ]
    },
    {
      "cell_type": "code",
      "execution_count": 18,
      "metadata": {
        "colab": {
          "base_uri": "https://localhost:8080/",
          "height": 206
        },
        "id": "NaYNNE2L8Dzr",
        "outputId": "ac679f5e-75e5-4d19-fbd3-e74209ea9f76"
      },
      "outputs": [
        {
          "output_type": "execute_result",
          "data": {
            "text/plain": [
              "            ride_id  rideable_type          started_at            ended_at  \\\n",
              "0  0A1B623926EF4E16    docked_bike 2021-07-02 14:44:36 2021-07-02 15:19:58   \n",
              "1  B2D5583A5A5E76EE   classic_bike 2021-07-07 16:57:42 2021-07-07 17:16:09   \n",
              "2  6F264597DDBF427A   classic_bike 2021-07-25 11:30:55 2021-07-25 11:48:45   \n",
              "3  379B58EAB20E8AA5   classic_bike 2021-07-08 22:08:30 2021-07-08 22:23:32   \n",
              "4  6615C1E4EB08E8FB  electric_bike 2021-07-28 16:08:06 2021-07-28 16:27:09   \n",
              "\n",
              "  member_casual day_of_week  int_day_of_week  \n",
              "0        casual      Friday                5  \n",
              "1        casual   Wednesday                3  \n",
              "2        member      Sunday                7  \n",
              "3        member    Thursday                4  \n",
              "4        casual   Wednesday                3  "
            ],
            "text/html": [
              "\n",
              "  <div id=\"df-a4199e78-a701-4b77-a8cb-3d3693447d44\">\n",
              "    <div class=\"colab-df-container\">\n",
              "      <div>\n",
              "<style scoped>\n",
              "    .dataframe tbody tr th:only-of-type {\n",
              "        vertical-align: middle;\n",
              "    }\n",
              "\n",
              "    .dataframe tbody tr th {\n",
              "        vertical-align: top;\n",
              "    }\n",
              "\n",
              "    .dataframe thead th {\n",
              "        text-align: right;\n",
              "    }\n",
              "</style>\n",
              "<table border=\"1\" class=\"dataframe\">\n",
              "  <thead>\n",
              "    <tr style=\"text-align: right;\">\n",
              "      <th></th>\n",
              "      <th>ride_id</th>\n",
              "      <th>rideable_type</th>\n",
              "      <th>started_at</th>\n",
              "      <th>ended_at</th>\n",
              "      <th>member_casual</th>\n",
              "      <th>day_of_week</th>\n",
              "      <th>int_day_of_week</th>\n",
              "    </tr>\n",
              "  </thead>\n",
              "  <tbody>\n",
              "    <tr>\n",
              "      <th>0</th>\n",
              "      <td>0A1B623926EF4E16</td>\n",
              "      <td>docked_bike</td>\n",
              "      <td>2021-07-02 14:44:36</td>\n",
              "      <td>2021-07-02 15:19:58</td>\n",
              "      <td>casual</td>\n",
              "      <td>Friday</td>\n",
              "      <td>5</td>\n",
              "    </tr>\n",
              "    <tr>\n",
              "      <th>1</th>\n",
              "      <td>B2D5583A5A5E76EE</td>\n",
              "      <td>classic_bike</td>\n",
              "      <td>2021-07-07 16:57:42</td>\n",
              "      <td>2021-07-07 17:16:09</td>\n",
              "      <td>casual</td>\n",
              "      <td>Wednesday</td>\n",
              "      <td>3</td>\n",
              "    </tr>\n",
              "    <tr>\n",
              "      <th>2</th>\n",
              "      <td>6F264597DDBF427A</td>\n",
              "      <td>classic_bike</td>\n",
              "      <td>2021-07-25 11:30:55</td>\n",
              "      <td>2021-07-25 11:48:45</td>\n",
              "      <td>member</td>\n",
              "      <td>Sunday</td>\n",
              "      <td>7</td>\n",
              "    </tr>\n",
              "    <tr>\n",
              "      <th>3</th>\n",
              "      <td>379B58EAB20E8AA5</td>\n",
              "      <td>classic_bike</td>\n",
              "      <td>2021-07-08 22:08:30</td>\n",
              "      <td>2021-07-08 22:23:32</td>\n",
              "      <td>member</td>\n",
              "      <td>Thursday</td>\n",
              "      <td>4</td>\n",
              "    </tr>\n",
              "    <tr>\n",
              "      <th>4</th>\n",
              "      <td>6615C1E4EB08E8FB</td>\n",
              "      <td>electric_bike</td>\n",
              "      <td>2021-07-28 16:08:06</td>\n",
              "      <td>2021-07-28 16:27:09</td>\n",
              "      <td>casual</td>\n",
              "      <td>Wednesday</td>\n",
              "      <td>3</td>\n",
              "    </tr>\n",
              "  </tbody>\n",
              "</table>\n",
              "</div>\n",
              "      <button class=\"colab-df-convert\" onclick=\"convertToInteractive('df-a4199e78-a701-4b77-a8cb-3d3693447d44')\"\n",
              "              title=\"Convert this dataframe to an interactive table.\"\n",
              "              style=\"display:none;\">\n",
              "        \n",
              "  <svg xmlns=\"http://www.w3.org/2000/svg\" height=\"24px\"viewBox=\"0 0 24 24\"\n",
              "       width=\"24px\">\n",
              "    <path d=\"M0 0h24v24H0V0z\" fill=\"none\"/>\n",
              "    <path d=\"M18.56 5.44l.94 2.06.94-2.06 2.06-.94-2.06-.94-.94-2.06-.94 2.06-2.06.94zm-11 1L8.5 8.5l.94-2.06 2.06-.94-2.06-.94L8.5 2.5l-.94 2.06-2.06.94zm10 10l.94 2.06.94-2.06 2.06-.94-2.06-.94-.94-2.06-.94 2.06-2.06.94z\"/><path d=\"M17.41 7.96l-1.37-1.37c-.4-.4-.92-.59-1.43-.59-.52 0-1.04.2-1.43.59L10.3 9.45l-7.72 7.72c-.78.78-.78 2.05 0 2.83L4 21.41c.39.39.9.59 1.41.59.51 0 1.02-.2 1.41-.59l7.78-7.78 2.81-2.81c.8-.78.8-2.07 0-2.86zM5.41 20L4 18.59l7.72-7.72 1.47 1.35L5.41 20z\"/>\n",
              "  </svg>\n",
              "      </button>\n",
              "      \n",
              "  <style>\n",
              "    .colab-df-container {\n",
              "      display:flex;\n",
              "      flex-wrap:wrap;\n",
              "      gap: 12px;\n",
              "    }\n",
              "\n",
              "    .colab-df-convert {\n",
              "      background-color: #E8F0FE;\n",
              "      border: none;\n",
              "      border-radius: 50%;\n",
              "      cursor: pointer;\n",
              "      display: none;\n",
              "      fill: #1967D2;\n",
              "      height: 32px;\n",
              "      padding: 0 0 0 0;\n",
              "      width: 32px;\n",
              "    }\n",
              "\n",
              "    .colab-df-convert:hover {\n",
              "      background-color: #E2EBFA;\n",
              "      box-shadow: 0px 1px 2px rgba(60, 64, 67, 0.3), 0px 1px 3px 1px rgba(60, 64, 67, 0.15);\n",
              "      fill: #174EA6;\n",
              "    }\n",
              "\n",
              "    [theme=dark] .colab-df-convert {\n",
              "      background-color: #3B4455;\n",
              "      fill: #D2E3FC;\n",
              "    }\n",
              "\n",
              "    [theme=dark] .colab-df-convert:hover {\n",
              "      background-color: #434B5C;\n",
              "      box-shadow: 0px 1px 3px 1px rgba(0, 0, 0, 0.15);\n",
              "      filter: drop-shadow(0px 1px 2px rgba(0, 0, 0, 0.3));\n",
              "      fill: #FFFFFF;\n",
              "    }\n",
              "  </style>\n",
              "\n",
              "      <script>\n",
              "        const buttonEl =\n",
              "          document.querySelector('#df-a4199e78-a701-4b77-a8cb-3d3693447d44 button.colab-df-convert');\n",
              "        buttonEl.style.display =\n",
              "          google.colab.kernel.accessAllowed ? 'block' : 'none';\n",
              "\n",
              "        async function convertToInteractive(key) {\n",
              "          const element = document.querySelector('#df-a4199e78-a701-4b77-a8cb-3d3693447d44');\n",
              "          const dataTable =\n",
              "            await google.colab.kernel.invokeFunction('convertToInteractive',\n",
              "                                                     [key], {});\n",
              "          if (!dataTable) return;\n",
              "\n",
              "          const docLinkHtml = 'Like what you see? Visit the ' +\n",
              "            '<a target=\"_blank\" href=https://colab.research.google.com/notebooks/data_table.ipynb>data table notebook</a>'\n",
              "            + ' to learn more about interactive tables.';\n",
              "          element.innerHTML = '';\n",
              "          dataTable['output_type'] = 'display_data';\n",
              "          await google.colab.output.renderOutput(dataTable, element);\n",
              "          const docLink = document.createElement('div');\n",
              "          docLink.innerHTML = docLinkHtml;\n",
              "          element.appendChild(docLink);\n",
              "        }\n",
              "      </script>\n",
              "    </div>\n",
              "  </div>\n",
              "  "
            ]
          },
          "metadata": {},
          "execution_count": 18
        }
      ],
      "source": [
        "df.head()"
      ]
    },
    {
      "cell_type": "markdown",
      "metadata": {
        "id": "yT6NXMDYOamx"
      },
      "source": [
        "### Create a column for month"
      ]
    },
    {
      "cell_type": "code",
      "execution_count": 19,
      "metadata": {
        "id": "uJbVdxHj_9oJ"
      },
      "outputs": [],
      "source": [
        "df['int_month'] = df['started_at'].apply(lambda x: x.month)"
      ]
    },
    {
      "cell_type": "code",
      "execution_count": 20,
      "metadata": {
        "id": "2oVqSNs89yhI"
      },
      "outputs": [],
      "source": [
        "df['month'] = df['started_at'].dt.month_name()"
      ]
    },
    {
      "cell_type": "code",
      "execution_count": 21,
      "metadata": {
        "id": "OfLmMe1TxEcT"
      },
      "outputs": [],
      "source": [
        "months_order = [7, 8, 9, 10, 11, 12, 1, 2, 3, 4, 5, 6]"
      ]
    },
    {
      "cell_type": "code",
      "execution_count": 22,
      "metadata": {
        "colab": {
          "base_uri": "https://localhost:8080/"
        },
        "id": "Kkjb-dWGOgAI",
        "outputId": "50d588b9-aab5-4055-d81b-0ed74e9b783e"
      },
      "outputs": [
        {
          "output_type": "stream",
          "name": "stdout",
          "text": [
            "{1: 'January', 2: 'February', 3: 'March', 4: 'April', 5: 'May', 6: 'June', 7: 'July', 8: 'August', 9: 'September', 10: 'October', 11: 'November', 12: 'December'}\n"
          ]
        }
      ],
      "source": [
        "# Create a dictionary for months:\n",
        "\n",
        "month_names = {(i): name for i, name in enumerate(calendar.month_name) if i != 0}\n",
        "print(month_names)"
      ]
    },
    {
      "cell_type": "code",
      "execution_count": 23,
      "metadata": {
        "id": "Oj6bs_xH4-Yd"
      },
      "outputs": [],
      "source": [
        "df = df.sort_values(by=['started_at'])"
      ]
    },
    {
      "cell_type": "markdown",
      "metadata": {
        "id": "kUbPs13C8bbD"
      },
      "source": [
        "### Create a column for the hour of day each ride started"
      ]
    },
    {
      "cell_type": "code",
      "execution_count": 24,
      "metadata": {
        "id": "5i_1yy5C8Z07"
      },
      "outputs": [],
      "source": [
        "df['hour'] = df['started_at'].apply(lambda x: x.hour)"
      ]
    },
    {
      "cell_type": "markdown",
      "metadata": {
        "id": "ZbTojtyI3U3a"
      },
      "source": [
        "### Calculate the ride length and turning into minutes"
      ]
    },
    {
      "cell_type": "code",
      "execution_count": 25,
      "metadata": {
        "id": "3J_oTKE5OSeH"
      },
      "outputs": [],
      "source": [
        "# Calculate the ride length \n",
        "df['ride_length'] = df['ended_at'] - df['started_at']"
      ]
    },
    {
      "cell_type": "code",
      "execution_count": 26,
      "metadata": {
        "id": "mpdtFAsyZmQA"
      },
      "outputs": [],
      "source": [
        "# Transform in minutes\n",
        "df['ride_length_minutes'] = (df['ride_length']/timedelta(minutes=1)).round(decimals = 2)"
      ]
    },
    {
      "cell_type": "markdown",
      "source": [
        "## Updating costumer column values using `.title()`"
      ],
      "metadata": {
        "id": "hRQmmoiz4cGb"
      }
    },
    {
      "cell_type": "code",
      "source": [
        "df['member_casual'] = df['member_casual'].apply(lambda x: x.title())"
      ],
      "metadata": {
        "id": "NubcMMXP44ph"
      },
      "execution_count": 27,
      "outputs": []
    },
    {
      "cell_type": "markdown",
      "metadata": {
        "id": "S4H7dvl7bya_"
      },
      "source": [
        "## Getting a statistical overview using `.describe()`, treating inconsistent values and outliers\n",
        "\n",
        "Without giving the data any treatment we have:\n",
        "* The minimum ride length for all users was equal to -1 days +21:42:35\t\n",
        "* The maximum ride length for all users was equal to 34 days 02:27:09\n",
        "* The median ride length for all users was equal to 00:11:10\n",
        "* The most frequent day of rides was Saturday\n",
        "* The month with more rides was July 2021\n"
      ]
    },
    {
      "cell_type": "code",
      "execution_count": 28,
      "metadata": {
        "colab": {
          "base_uri": "https://localhost:8080/",
          "height": 300
        },
        "id": "O4fffczDOSea",
        "outputId": "554bd31a-863d-4a65-c59b-ec5299939ff9"
      },
      "outputs": [
        {
          "output_type": "execute_result",
          "data": {
            "text/plain": [
              "                     ride_length  ride_length_minutes\n",
              "count                    5900385         5.900385e+06\n",
              "mean   0 days 00:20:16.942832713         2.028238e+01\n",
              "std    0 days 02:35:13.345907040         1.552224e+02\n",
              "min            -1 days +21:42:35        -1.374200e+02\n",
              "25%              0 days 00:06:17         6.280000e+00\n",
              "50%              0 days 00:11:10         1.117000e+01\n",
              "75%              0 days 00:20:12         2.020000e+01\n",
              "max             34 days 02:27:09         4.910715e+04"
            ],
            "text/html": [
              "\n",
              "  <div id=\"df-0b9dadf1-3f53-4fa4-a413-a33de02614bb\">\n",
              "    <div class=\"colab-df-container\">\n",
              "      <div>\n",
              "<style scoped>\n",
              "    .dataframe tbody tr th:only-of-type {\n",
              "        vertical-align: middle;\n",
              "    }\n",
              "\n",
              "    .dataframe tbody tr th {\n",
              "        vertical-align: top;\n",
              "    }\n",
              "\n",
              "    .dataframe thead th {\n",
              "        text-align: right;\n",
              "    }\n",
              "</style>\n",
              "<table border=\"1\" class=\"dataframe\">\n",
              "  <thead>\n",
              "    <tr style=\"text-align: right;\">\n",
              "      <th></th>\n",
              "      <th>ride_length</th>\n",
              "      <th>ride_length_minutes</th>\n",
              "    </tr>\n",
              "  </thead>\n",
              "  <tbody>\n",
              "    <tr>\n",
              "      <th>count</th>\n",
              "      <td>5900385</td>\n",
              "      <td>5.900385e+06</td>\n",
              "    </tr>\n",
              "    <tr>\n",
              "      <th>mean</th>\n",
              "      <td>0 days 00:20:16.942832713</td>\n",
              "      <td>2.028238e+01</td>\n",
              "    </tr>\n",
              "    <tr>\n",
              "      <th>std</th>\n",
              "      <td>0 days 02:35:13.345907040</td>\n",
              "      <td>1.552224e+02</td>\n",
              "    </tr>\n",
              "    <tr>\n",
              "      <th>min</th>\n",
              "      <td>-1 days +21:42:35</td>\n",
              "      <td>-1.374200e+02</td>\n",
              "    </tr>\n",
              "    <tr>\n",
              "      <th>25%</th>\n",
              "      <td>0 days 00:06:17</td>\n",
              "      <td>6.280000e+00</td>\n",
              "    </tr>\n",
              "    <tr>\n",
              "      <th>50%</th>\n",
              "      <td>0 days 00:11:10</td>\n",
              "      <td>1.117000e+01</td>\n",
              "    </tr>\n",
              "    <tr>\n",
              "      <th>75%</th>\n",
              "      <td>0 days 00:20:12</td>\n",
              "      <td>2.020000e+01</td>\n",
              "    </tr>\n",
              "    <tr>\n",
              "      <th>max</th>\n",
              "      <td>34 days 02:27:09</td>\n",
              "      <td>4.910715e+04</td>\n",
              "    </tr>\n",
              "  </tbody>\n",
              "</table>\n",
              "</div>\n",
              "      <button class=\"colab-df-convert\" onclick=\"convertToInteractive('df-0b9dadf1-3f53-4fa4-a413-a33de02614bb')\"\n",
              "              title=\"Convert this dataframe to an interactive table.\"\n",
              "              style=\"display:none;\">\n",
              "        \n",
              "  <svg xmlns=\"http://www.w3.org/2000/svg\" height=\"24px\"viewBox=\"0 0 24 24\"\n",
              "       width=\"24px\">\n",
              "    <path d=\"M0 0h24v24H0V0z\" fill=\"none\"/>\n",
              "    <path d=\"M18.56 5.44l.94 2.06.94-2.06 2.06-.94-2.06-.94-.94-2.06-.94 2.06-2.06.94zm-11 1L8.5 8.5l.94-2.06 2.06-.94-2.06-.94L8.5 2.5l-.94 2.06-2.06.94zm10 10l.94 2.06.94-2.06 2.06-.94-2.06-.94-.94-2.06-.94 2.06-2.06.94z\"/><path d=\"M17.41 7.96l-1.37-1.37c-.4-.4-.92-.59-1.43-.59-.52 0-1.04.2-1.43.59L10.3 9.45l-7.72 7.72c-.78.78-.78 2.05 0 2.83L4 21.41c.39.39.9.59 1.41.59.51 0 1.02-.2 1.41-.59l7.78-7.78 2.81-2.81c.8-.78.8-2.07 0-2.86zM5.41 20L4 18.59l7.72-7.72 1.47 1.35L5.41 20z\"/>\n",
              "  </svg>\n",
              "      </button>\n",
              "      \n",
              "  <style>\n",
              "    .colab-df-container {\n",
              "      display:flex;\n",
              "      flex-wrap:wrap;\n",
              "      gap: 12px;\n",
              "    }\n",
              "\n",
              "    .colab-df-convert {\n",
              "      background-color: #E8F0FE;\n",
              "      border: none;\n",
              "      border-radius: 50%;\n",
              "      cursor: pointer;\n",
              "      display: none;\n",
              "      fill: #1967D2;\n",
              "      height: 32px;\n",
              "      padding: 0 0 0 0;\n",
              "      width: 32px;\n",
              "    }\n",
              "\n",
              "    .colab-df-convert:hover {\n",
              "      background-color: #E2EBFA;\n",
              "      box-shadow: 0px 1px 2px rgba(60, 64, 67, 0.3), 0px 1px 3px 1px rgba(60, 64, 67, 0.15);\n",
              "      fill: #174EA6;\n",
              "    }\n",
              "\n",
              "    [theme=dark] .colab-df-convert {\n",
              "      background-color: #3B4455;\n",
              "      fill: #D2E3FC;\n",
              "    }\n",
              "\n",
              "    [theme=dark] .colab-df-convert:hover {\n",
              "      background-color: #434B5C;\n",
              "      box-shadow: 0px 1px 3px 1px rgba(0, 0, 0, 0.15);\n",
              "      filter: drop-shadow(0px 1px 2px rgba(0, 0, 0, 0.3));\n",
              "      fill: #FFFFFF;\n",
              "    }\n",
              "  </style>\n",
              "\n",
              "      <script>\n",
              "        const buttonEl =\n",
              "          document.querySelector('#df-0b9dadf1-3f53-4fa4-a413-a33de02614bb button.colab-df-convert');\n",
              "        buttonEl.style.display =\n",
              "          google.colab.kernel.accessAllowed ? 'block' : 'none';\n",
              "\n",
              "        async function convertToInteractive(key) {\n",
              "          const element = document.querySelector('#df-0b9dadf1-3f53-4fa4-a413-a33de02614bb');\n",
              "          const dataTable =\n",
              "            await google.colab.kernel.invokeFunction('convertToInteractive',\n",
              "                                                     [key], {});\n",
              "          if (!dataTable) return;\n",
              "\n",
              "          const docLinkHtml = 'Like what you see? Visit the ' +\n",
              "            '<a target=\"_blank\" href=https://colab.research.google.com/notebooks/data_table.ipynb>data table notebook</a>'\n",
              "            + ' to learn more about interactive tables.';\n",
              "          element.innerHTML = '';\n",
              "          dataTable['output_type'] = 'display_data';\n",
              "          await google.colab.output.renderOutput(dataTable, element);\n",
              "          const docLink = document.createElement('div');\n",
              "          docLink.innerHTML = docLinkHtml;\n",
              "          element.appendChild(docLink);\n",
              "        }\n",
              "      </script>\n",
              "    </div>\n",
              "  </div>\n",
              "  "
            ]
          },
          "metadata": {},
          "execution_count": 28
        }
      ],
      "source": [
        "df[['ride_length', 'ride_length_minutes', ]].describe()"
      ]
    },
    {
      "cell_type": "code",
      "execution_count": 29,
      "metadata": {
        "colab": {
          "base_uri": "https://localhost:8080/",
          "height": 294
        },
        "id": "FYTFRSo38zTZ",
        "outputId": "c34a2ce4-a8c3-485c-fbdd-bf6e7ad58e12"
      },
      "outputs": [
        {
          "output_type": "stream",
          "name": "stderr",
          "text": [
            "/usr/local/lib/python3.7/dist-packages/ipykernel_launcher.py:1: FutureWarning: Treating datetime data as categorical rather than numeric in `.describe` is deprecated and will be removed in a future version of pandas. Specify `datetime_is_numeric=True` to silence this warning and adopt the future behavior now.\n",
            "  \"\"\"Entry point for launching an IPython kernel.\n"
          ]
        },
        {
          "output_type": "execute_result",
          "data": {
            "text/plain": [
              "       day_of_week    month           started_at\n",
              "count      5900385  5900385              5900385\n",
              "unique           7       12              4924385\n",
              "top       Saturday     July  2022-05-30 13:05:15\n",
              "freq        979726   822410                    9\n",
              "first          NaN      NaN  2021-07-01 00:00:22\n",
              "last           NaN      NaN  2022-06-30 23:59:58"
            ],
            "text/html": [
              "\n",
              "  <div id=\"df-94174858-84f7-4a44-9bde-760463cf62da\">\n",
              "    <div class=\"colab-df-container\">\n",
              "      <div>\n",
              "<style scoped>\n",
              "    .dataframe tbody tr th:only-of-type {\n",
              "        vertical-align: middle;\n",
              "    }\n",
              "\n",
              "    .dataframe tbody tr th {\n",
              "        vertical-align: top;\n",
              "    }\n",
              "\n",
              "    .dataframe thead th {\n",
              "        text-align: right;\n",
              "    }\n",
              "</style>\n",
              "<table border=\"1\" class=\"dataframe\">\n",
              "  <thead>\n",
              "    <tr style=\"text-align: right;\">\n",
              "      <th></th>\n",
              "      <th>day_of_week</th>\n",
              "      <th>month</th>\n",
              "      <th>started_at</th>\n",
              "    </tr>\n",
              "  </thead>\n",
              "  <tbody>\n",
              "    <tr>\n",
              "      <th>count</th>\n",
              "      <td>5900385</td>\n",
              "      <td>5900385</td>\n",
              "      <td>5900385</td>\n",
              "    </tr>\n",
              "    <tr>\n",
              "      <th>unique</th>\n",
              "      <td>7</td>\n",
              "      <td>12</td>\n",
              "      <td>4924385</td>\n",
              "    </tr>\n",
              "    <tr>\n",
              "      <th>top</th>\n",
              "      <td>Saturday</td>\n",
              "      <td>July</td>\n",
              "      <td>2022-05-30 13:05:15</td>\n",
              "    </tr>\n",
              "    <tr>\n",
              "      <th>freq</th>\n",
              "      <td>979726</td>\n",
              "      <td>822410</td>\n",
              "      <td>9</td>\n",
              "    </tr>\n",
              "    <tr>\n",
              "      <th>first</th>\n",
              "      <td>NaN</td>\n",
              "      <td>NaN</td>\n",
              "      <td>2021-07-01 00:00:22</td>\n",
              "    </tr>\n",
              "    <tr>\n",
              "      <th>last</th>\n",
              "      <td>NaN</td>\n",
              "      <td>NaN</td>\n",
              "      <td>2022-06-30 23:59:58</td>\n",
              "    </tr>\n",
              "  </tbody>\n",
              "</table>\n",
              "</div>\n",
              "      <button class=\"colab-df-convert\" onclick=\"convertToInteractive('df-94174858-84f7-4a44-9bde-760463cf62da')\"\n",
              "              title=\"Convert this dataframe to an interactive table.\"\n",
              "              style=\"display:none;\">\n",
              "        \n",
              "  <svg xmlns=\"http://www.w3.org/2000/svg\" height=\"24px\"viewBox=\"0 0 24 24\"\n",
              "       width=\"24px\">\n",
              "    <path d=\"M0 0h24v24H0V0z\" fill=\"none\"/>\n",
              "    <path d=\"M18.56 5.44l.94 2.06.94-2.06 2.06-.94-2.06-.94-.94-2.06-.94 2.06-2.06.94zm-11 1L8.5 8.5l.94-2.06 2.06-.94-2.06-.94L8.5 2.5l-.94 2.06-2.06.94zm10 10l.94 2.06.94-2.06 2.06-.94-2.06-.94-.94-2.06-.94 2.06-2.06.94z\"/><path d=\"M17.41 7.96l-1.37-1.37c-.4-.4-.92-.59-1.43-.59-.52 0-1.04.2-1.43.59L10.3 9.45l-7.72 7.72c-.78.78-.78 2.05 0 2.83L4 21.41c.39.39.9.59 1.41.59.51 0 1.02-.2 1.41-.59l7.78-7.78 2.81-2.81c.8-.78.8-2.07 0-2.86zM5.41 20L4 18.59l7.72-7.72 1.47 1.35L5.41 20z\"/>\n",
              "  </svg>\n",
              "      </button>\n",
              "      \n",
              "  <style>\n",
              "    .colab-df-container {\n",
              "      display:flex;\n",
              "      flex-wrap:wrap;\n",
              "      gap: 12px;\n",
              "    }\n",
              "\n",
              "    .colab-df-convert {\n",
              "      background-color: #E8F0FE;\n",
              "      border: none;\n",
              "      border-radius: 50%;\n",
              "      cursor: pointer;\n",
              "      display: none;\n",
              "      fill: #1967D2;\n",
              "      height: 32px;\n",
              "      padding: 0 0 0 0;\n",
              "      width: 32px;\n",
              "    }\n",
              "\n",
              "    .colab-df-convert:hover {\n",
              "      background-color: #E2EBFA;\n",
              "      box-shadow: 0px 1px 2px rgba(60, 64, 67, 0.3), 0px 1px 3px 1px rgba(60, 64, 67, 0.15);\n",
              "      fill: #174EA6;\n",
              "    }\n",
              "\n",
              "    [theme=dark] .colab-df-convert {\n",
              "      background-color: #3B4455;\n",
              "      fill: #D2E3FC;\n",
              "    }\n",
              "\n",
              "    [theme=dark] .colab-df-convert:hover {\n",
              "      background-color: #434B5C;\n",
              "      box-shadow: 0px 1px 3px 1px rgba(0, 0, 0, 0.15);\n",
              "      filter: drop-shadow(0px 1px 2px rgba(0, 0, 0, 0.3));\n",
              "      fill: #FFFFFF;\n",
              "    }\n",
              "  </style>\n",
              "\n",
              "      <script>\n",
              "        const buttonEl =\n",
              "          document.querySelector('#df-94174858-84f7-4a44-9bde-760463cf62da button.colab-df-convert');\n",
              "        buttonEl.style.display =\n",
              "          google.colab.kernel.accessAllowed ? 'block' : 'none';\n",
              "\n",
              "        async function convertToInteractive(key) {\n",
              "          const element = document.querySelector('#df-94174858-84f7-4a44-9bde-760463cf62da');\n",
              "          const dataTable =\n",
              "            await google.colab.kernel.invokeFunction('convertToInteractive',\n",
              "                                                     [key], {});\n",
              "          if (!dataTable) return;\n",
              "\n",
              "          const docLinkHtml = 'Like what you see? Visit the ' +\n",
              "            '<a target=\"_blank\" href=https://colab.research.google.com/notebooks/data_table.ipynb>data table notebook</a>'\n",
              "            + ' to learn more about interactive tables.';\n",
              "          element.innerHTML = '';\n",
              "          dataTable['output_type'] = 'display_data';\n",
              "          await google.colab.output.renderOutput(dataTable, element);\n",
              "          const docLink = document.createElement('div');\n",
              "          docLink.innerHTML = docLinkHtml;\n",
              "          element.appendChild(docLink);\n",
              "        }\n",
              "      </script>\n",
              "    </div>\n",
              "  </div>\n",
              "  "
            ]
          },
          "metadata": {},
          "execution_count": 29
        }
      ],
      "source": [
        "df[['day_of_week', 'month', 'started_at']].describe()"
      ]
    },
    {
      "cell_type": "markdown",
      "metadata": {
        "id": "VReTkLqndHvh"
      },
      "source": [
        "This summary shows us that there is inconsistent records from ride lenght calculated with the time difference between the starting time and ending time of each ride, specially for negative values which in this context are not possible. All negative values represent 0.002% of all data and therefore will be excluded from further analysis.\n"
      ]
    },
    {
      "cell_type": "code",
      "execution_count": 30,
      "metadata": {
        "colab": {
          "base_uri": "https://localhost:8080/"
        },
        "id": "pFvnyxNJCJvb",
        "outputId": "24bf82db-e376-4d48-fc12-4f54b1ac8a3e"
      },
      "outputs": [
        {
          "output_type": "execute_result",
          "data": {
            "text/plain": [
              "ride_length_minutes    146\n",
              "dtype: int64"
            ]
          },
          "metadata": {},
          "execution_count": 30
        }
      ],
      "source": [
        "df[['ride_length_minutes']].query('ride_length_minutes < 0').count()"
      ]
    },
    {
      "cell_type": "code",
      "execution_count": 31,
      "metadata": {
        "id": "UTVwcOevIxfR"
      },
      "outputs": [],
      "source": [
        "df = df.query('ride_length_minutes > 0')"
      ]
    },
    {
      "cell_type": "markdown",
      "metadata": {
        "id": "hi0P2NHYCh3C"
      },
      "source": [
        "Regarding the ouliers, I defined an initial threshold of 1440 minutes (equivalent to 24 hours) for ride length but this is an arbitrary value decided by me. The bike service offers daily plans for casual users and the case study description didn't mention a time limit for any riders, so it's is impossible to assume that any ride longer than 1440 minutes are actually an outlier or a different type of service or condition a user can have. The number of records that are longer than 24 hours representes 0.07% of the total records. Taking into consideration only longer rides (> 1440 minutes), 75% of them are between 1440 - 1500.03 minutes (24 - 25 hours) and casual users are responsible for 88% of them. Since the difference from the threshold defined at first is of one hour only and there's no solid justification to exclude them, I decided to use 1500, equivalent to 25 hours and keep these data."
      ]
    },
    {
      "cell_type": "code",
      "execution_count": 32,
      "metadata": {
        "colab": {
          "base_uri": "https://localhost:8080/"
        },
        "id": "ep6sMHo7CZso",
        "outputId": "39b12de1-9334-4bb4-d8f4-9de243a51603"
      },
      "outputs": [
        {
          "output_type": "execute_result",
          "data": {
            "text/plain": [
              "ride_length_minutes    4718\n",
              "dtype: int64"
            ]
          },
          "metadata": {},
          "execution_count": 32
        }
      ],
      "source": [
        "df[['ride_length_minutes']].query('ride_length_minutes > 1440').count()"
      ]
    },
    {
      "cell_type": "code",
      "execution_count": 33,
      "metadata": {
        "id": "r0i9GrreGhgt"
      },
      "outputs": [],
      "source": [
        "long_rides = df.query('ride_length_minutes > 1440')"
      ]
    },
    {
      "cell_type": "code",
      "execution_count": 34,
      "metadata": {
        "colab": {
          "base_uri": "https://localhost:8080/",
          "height": 300
        },
        "id": "FzxpvlznGoEH",
        "outputId": "ee88dd20-773e-4119-942e-4b053cdb3a24"
      },
      "outputs": [
        {
          "output_type": "execute_result",
          "data": {
            "text/plain": [
              "       int_day_of_week    int_month         hour                ride_length  \\\n",
              "count      4718.000000  4718.000000  4718.000000                       4718   \n",
              "mean          4.429207     6.789953    14.340398  2 days 02:14:07.599830436   \n",
              "std           2.056745     2.473469     6.167428  3 days 02:13:43.385909527   \n",
              "min           1.000000     1.000000     0.000000            1 days 00:00:45   \n",
              "25%           3.000000     5.000000    11.000000            1 days 00:59:52   \n",
              "50%           5.000000     6.000000    16.000000            1 days 00:59:55   \n",
              "75%           6.000000     9.000000    19.000000            1 days 01:00:02   \n",
              "max           7.000000    12.000000    23.000000           34 days 02:27:09   \n",
              "\n",
              "       ride_length_minutes  \n",
              "count          4718.000000  \n",
              "mean           3014.126927  \n",
              "std            4453.723054  \n",
              "min            1440.750000  \n",
              "25%            1499.870000  \n",
              "50%            1499.920000  \n",
              "75%            1500.030000  \n",
              "max           49107.150000  "
            ],
            "text/html": [
              "\n",
              "  <div id=\"df-a34602ef-a443-4b26-85a6-c53c816306a6\">\n",
              "    <div class=\"colab-df-container\">\n",
              "      <div>\n",
              "<style scoped>\n",
              "    .dataframe tbody tr th:only-of-type {\n",
              "        vertical-align: middle;\n",
              "    }\n",
              "\n",
              "    .dataframe tbody tr th {\n",
              "        vertical-align: top;\n",
              "    }\n",
              "\n",
              "    .dataframe thead th {\n",
              "        text-align: right;\n",
              "    }\n",
              "</style>\n",
              "<table border=\"1\" class=\"dataframe\">\n",
              "  <thead>\n",
              "    <tr style=\"text-align: right;\">\n",
              "      <th></th>\n",
              "      <th>int_day_of_week</th>\n",
              "      <th>int_month</th>\n",
              "      <th>hour</th>\n",
              "      <th>ride_length</th>\n",
              "      <th>ride_length_minutes</th>\n",
              "    </tr>\n",
              "  </thead>\n",
              "  <tbody>\n",
              "    <tr>\n",
              "      <th>count</th>\n",
              "      <td>4718.000000</td>\n",
              "      <td>4718.000000</td>\n",
              "      <td>4718.000000</td>\n",
              "      <td>4718</td>\n",
              "      <td>4718.000000</td>\n",
              "    </tr>\n",
              "    <tr>\n",
              "      <th>mean</th>\n",
              "      <td>4.429207</td>\n",
              "      <td>6.789953</td>\n",
              "      <td>14.340398</td>\n",
              "      <td>2 days 02:14:07.599830436</td>\n",
              "      <td>3014.126927</td>\n",
              "    </tr>\n",
              "    <tr>\n",
              "      <th>std</th>\n",
              "      <td>2.056745</td>\n",
              "      <td>2.473469</td>\n",
              "      <td>6.167428</td>\n",
              "      <td>3 days 02:13:43.385909527</td>\n",
              "      <td>4453.723054</td>\n",
              "    </tr>\n",
              "    <tr>\n",
              "      <th>min</th>\n",
              "      <td>1.000000</td>\n",
              "      <td>1.000000</td>\n",
              "      <td>0.000000</td>\n",
              "      <td>1 days 00:00:45</td>\n",
              "      <td>1440.750000</td>\n",
              "    </tr>\n",
              "    <tr>\n",
              "      <th>25%</th>\n",
              "      <td>3.000000</td>\n",
              "      <td>5.000000</td>\n",
              "      <td>11.000000</td>\n",
              "      <td>1 days 00:59:52</td>\n",
              "      <td>1499.870000</td>\n",
              "    </tr>\n",
              "    <tr>\n",
              "      <th>50%</th>\n",
              "      <td>5.000000</td>\n",
              "      <td>6.000000</td>\n",
              "      <td>16.000000</td>\n",
              "      <td>1 days 00:59:55</td>\n",
              "      <td>1499.920000</td>\n",
              "    </tr>\n",
              "    <tr>\n",
              "      <th>75%</th>\n",
              "      <td>6.000000</td>\n",
              "      <td>9.000000</td>\n",
              "      <td>19.000000</td>\n",
              "      <td>1 days 01:00:02</td>\n",
              "      <td>1500.030000</td>\n",
              "    </tr>\n",
              "    <tr>\n",
              "      <th>max</th>\n",
              "      <td>7.000000</td>\n",
              "      <td>12.000000</td>\n",
              "      <td>23.000000</td>\n",
              "      <td>34 days 02:27:09</td>\n",
              "      <td>49107.150000</td>\n",
              "    </tr>\n",
              "  </tbody>\n",
              "</table>\n",
              "</div>\n",
              "      <button class=\"colab-df-convert\" onclick=\"convertToInteractive('df-a34602ef-a443-4b26-85a6-c53c816306a6')\"\n",
              "              title=\"Convert this dataframe to an interactive table.\"\n",
              "              style=\"display:none;\">\n",
              "        \n",
              "  <svg xmlns=\"http://www.w3.org/2000/svg\" height=\"24px\"viewBox=\"0 0 24 24\"\n",
              "       width=\"24px\">\n",
              "    <path d=\"M0 0h24v24H0V0z\" fill=\"none\"/>\n",
              "    <path d=\"M18.56 5.44l.94 2.06.94-2.06 2.06-.94-2.06-.94-.94-2.06-.94 2.06-2.06.94zm-11 1L8.5 8.5l.94-2.06 2.06-.94-2.06-.94L8.5 2.5l-.94 2.06-2.06.94zm10 10l.94 2.06.94-2.06 2.06-.94-2.06-.94-.94-2.06-.94 2.06-2.06.94z\"/><path d=\"M17.41 7.96l-1.37-1.37c-.4-.4-.92-.59-1.43-.59-.52 0-1.04.2-1.43.59L10.3 9.45l-7.72 7.72c-.78.78-.78 2.05 0 2.83L4 21.41c.39.39.9.59 1.41.59.51 0 1.02-.2 1.41-.59l7.78-7.78 2.81-2.81c.8-.78.8-2.07 0-2.86zM5.41 20L4 18.59l7.72-7.72 1.47 1.35L5.41 20z\"/>\n",
              "  </svg>\n",
              "      </button>\n",
              "      \n",
              "  <style>\n",
              "    .colab-df-container {\n",
              "      display:flex;\n",
              "      flex-wrap:wrap;\n",
              "      gap: 12px;\n",
              "    }\n",
              "\n",
              "    .colab-df-convert {\n",
              "      background-color: #E8F0FE;\n",
              "      border: none;\n",
              "      border-radius: 50%;\n",
              "      cursor: pointer;\n",
              "      display: none;\n",
              "      fill: #1967D2;\n",
              "      height: 32px;\n",
              "      padding: 0 0 0 0;\n",
              "      width: 32px;\n",
              "    }\n",
              "\n",
              "    .colab-df-convert:hover {\n",
              "      background-color: #E2EBFA;\n",
              "      box-shadow: 0px 1px 2px rgba(60, 64, 67, 0.3), 0px 1px 3px 1px rgba(60, 64, 67, 0.15);\n",
              "      fill: #174EA6;\n",
              "    }\n",
              "\n",
              "    [theme=dark] .colab-df-convert {\n",
              "      background-color: #3B4455;\n",
              "      fill: #D2E3FC;\n",
              "    }\n",
              "\n",
              "    [theme=dark] .colab-df-convert:hover {\n",
              "      background-color: #434B5C;\n",
              "      box-shadow: 0px 1px 3px 1px rgba(0, 0, 0, 0.15);\n",
              "      filter: drop-shadow(0px 1px 2px rgba(0, 0, 0, 0.3));\n",
              "      fill: #FFFFFF;\n",
              "    }\n",
              "  </style>\n",
              "\n",
              "      <script>\n",
              "        const buttonEl =\n",
              "          document.querySelector('#df-a34602ef-a443-4b26-85a6-c53c816306a6 button.colab-df-convert');\n",
              "        buttonEl.style.display =\n",
              "          google.colab.kernel.accessAllowed ? 'block' : 'none';\n",
              "\n",
              "        async function convertToInteractive(key) {\n",
              "          const element = document.querySelector('#df-a34602ef-a443-4b26-85a6-c53c816306a6');\n",
              "          const dataTable =\n",
              "            await google.colab.kernel.invokeFunction('convertToInteractive',\n",
              "                                                     [key], {});\n",
              "          if (!dataTable) return;\n",
              "\n",
              "          const docLinkHtml = 'Like what you see? Visit the ' +\n",
              "            '<a target=\"_blank\" href=https://colab.research.google.com/notebooks/data_table.ipynb>data table notebook</a>'\n",
              "            + ' to learn more about interactive tables.';\n",
              "          element.innerHTML = '';\n",
              "          dataTable['output_type'] = 'display_data';\n",
              "          await google.colab.output.renderOutput(dataTable, element);\n",
              "          const docLink = document.createElement('div');\n",
              "          docLink.innerHTML = docLinkHtml;\n",
              "          element.appendChild(docLink);\n",
              "        }\n",
              "      </script>\n",
              "    </div>\n",
              "  </div>\n",
              "  "
            ]
          },
          "metadata": {},
          "execution_count": 34
        }
      ],
      "source": [
        "long_rides.describe()"
      ]
    },
    {
      "cell_type": "code",
      "execution_count": 35,
      "metadata": {
        "colab": {
          "base_uri": "https://localhost:8080/",
          "height": 143
        },
        "id": "9UXQYtBfHE6M",
        "outputId": "435b5a59-5713-4d19-8216-a8b06eccb5d3"
      },
      "outputs": [
        {
          "output_type": "execute_result",
          "data": {
            "text/plain": [
              "               rideable_type  ride_length_minutes\n",
              "member_casual                                    \n",
              "Casual                  4152                 4152\n",
              "Member                   566                  566"
            ],
            "text/html": [
              "\n",
              "  <div id=\"df-c283aa0a-119e-40c8-9ae9-15e1080f2f86\">\n",
              "    <div class=\"colab-df-container\">\n",
              "      <div>\n",
              "<style scoped>\n",
              "    .dataframe tbody tr th:only-of-type {\n",
              "        vertical-align: middle;\n",
              "    }\n",
              "\n",
              "    .dataframe tbody tr th {\n",
              "        vertical-align: top;\n",
              "    }\n",
              "\n",
              "    .dataframe thead th {\n",
              "        text-align: right;\n",
              "    }\n",
              "</style>\n",
              "<table border=\"1\" class=\"dataframe\">\n",
              "  <thead>\n",
              "    <tr style=\"text-align: right;\">\n",
              "      <th></th>\n",
              "      <th>rideable_type</th>\n",
              "      <th>ride_length_minutes</th>\n",
              "    </tr>\n",
              "    <tr>\n",
              "      <th>member_casual</th>\n",
              "      <th></th>\n",
              "      <th></th>\n",
              "    </tr>\n",
              "  </thead>\n",
              "  <tbody>\n",
              "    <tr>\n",
              "      <th>Casual</th>\n",
              "      <td>4152</td>\n",
              "      <td>4152</td>\n",
              "    </tr>\n",
              "    <tr>\n",
              "      <th>Member</th>\n",
              "      <td>566</td>\n",
              "      <td>566</td>\n",
              "    </tr>\n",
              "  </tbody>\n",
              "</table>\n",
              "</div>\n",
              "      <button class=\"colab-df-convert\" onclick=\"convertToInteractive('df-c283aa0a-119e-40c8-9ae9-15e1080f2f86')\"\n",
              "              title=\"Convert this dataframe to an interactive table.\"\n",
              "              style=\"display:none;\">\n",
              "        \n",
              "  <svg xmlns=\"http://www.w3.org/2000/svg\" height=\"24px\"viewBox=\"0 0 24 24\"\n",
              "       width=\"24px\">\n",
              "    <path d=\"M0 0h24v24H0V0z\" fill=\"none\"/>\n",
              "    <path d=\"M18.56 5.44l.94 2.06.94-2.06 2.06-.94-2.06-.94-.94-2.06-.94 2.06-2.06.94zm-11 1L8.5 8.5l.94-2.06 2.06-.94-2.06-.94L8.5 2.5l-.94 2.06-2.06.94zm10 10l.94 2.06.94-2.06 2.06-.94-2.06-.94-.94-2.06-.94 2.06-2.06.94z\"/><path d=\"M17.41 7.96l-1.37-1.37c-.4-.4-.92-.59-1.43-.59-.52 0-1.04.2-1.43.59L10.3 9.45l-7.72 7.72c-.78.78-.78 2.05 0 2.83L4 21.41c.39.39.9.59 1.41.59.51 0 1.02-.2 1.41-.59l7.78-7.78 2.81-2.81c.8-.78.8-2.07 0-2.86zM5.41 20L4 18.59l7.72-7.72 1.47 1.35L5.41 20z\"/>\n",
              "  </svg>\n",
              "      </button>\n",
              "      \n",
              "  <style>\n",
              "    .colab-df-container {\n",
              "      display:flex;\n",
              "      flex-wrap:wrap;\n",
              "      gap: 12px;\n",
              "    }\n",
              "\n",
              "    .colab-df-convert {\n",
              "      background-color: #E8F0FE;\n",
              "      border: none;\n",
              "      border-radius: 50%;\n",
              "      cursor: pointer;\n",
              "      display: none;\n",
              "      fill: #1967D2;\n",
              "      height: 32px;\n",
              "      padding: 0 0 0 0;\n",
              "      width: 32px;\n",
              "    }\n",
              "\n",
              "    .colab-df-convert:hover {\n",
              "      background-color: #E2EBFA;\n",
              "      box-shadow: 0px 1px 2px rgba(60, 64, 67, 0.3), 0px 1px 3px 1px rgba(60, 64, 67, 0.15);\n",
              "      fill: #174EA6;\n",
              "    }\n",
              "\n",
              "    [theme=dark] .colab-df-convert {\n",
              "      background-color: #3B4455;\n",
              "      fill: #D2E3FC;\n",
              "    }\n",
              "\n",
              "    [theme=dark] .colab-df-convert:hover {\n",
              "      background-color: #434B5C;\n",
              "      box-shadow: 0px 1px 3px 1px rgba(0, 0, 0, 0.15);\n",
              "      filter: drop-shadow(0px 1px 2px rgba(0, 0, 0, 0.3));\n",
              "      fill: #FFFFFF;\n",
              "    }\n",
              "  </style>\n",
              "\n",
              "      <script>\n",
              "        const buttonEl =\n",
              "          document.querySelector('#df-c283aa0a-119e-40c8-9ae9-15e1080f2f86 button.colab-df-convert');\n",
              "        buttonEl.style.display =\n",
              "          google.colab.kernel.accessAllowed ? 'block' : 'none';\n",
              "\n",
              "        async function convertToInteractive(key) {\n",
              "          const element = document.querySelector('#df-c283aa0a-119e-40c8-9ae9-15e1080f2f86');\n",
              "          const dataTable =\n",
              "            await google.colab.kernel.invokeFunction('convertToInteractive',\n",
              "                                                     [key], {});\n",
              "          if (!dataTable) return;\n",
              "\n",
              "          const docLinkHtml = 'Like what you see? Visit the ' +\n",
              "            '<a target=\"_blank\" href=https://colab.research.google.com/notebooks/data_table.ipynb>data table notebook</a>'\n",
              "            + ' to learn more about interactive tables.';\n",
              "          element.innerHTML = '';\n",
              "          dataTable['output_type'] = 'display_data';\n",
              "          await google.colab.output.renderOutput(dataTable, element);\n",
              "          const docLink = document.createElement('div');\n",
              "          docLink.innerHTML = docLinkHtml;\n",
              "          element.appendChild(docLink);\n",
              "        }\n",
              "      </script>\n",
              "    </div>\n",
              "  </div>\n",
              "  "
            ]
          },
          "metadata": {},
          "execution_count": 35
        }
      ],
      "source": [
        "long_rides[['rideable_type', 'ride_length_minutes', 'member_casual']].groupby(\"member_casual\").agg('count')"
      ]
    },
    {
      "cell_type": "code",
      "execution_count": 36,
      "metadata": {
        "colab": {
          "base_uri": "https://localhost:8080/"
        },
        "id": "RS72zM10CA3O",
        "outputId": "12ee66d1-f8bb-446b-dd18-785331812ef6"
      },
      "outputs": [
        {
          "output_type": "execute_result",
          "data": {
            "text/plain": [
              "ride_id                5898271\n",
              "rideable_type          5898271\n",
              "started_at             5898271\n",
              "ended_at               5898271\n",
              "member_casual          5898271\n",
              "day_of_week            5898271\n",
              "int_day_of_week        5898271\n",
              "int_month              5898271\n",
              "month                  5898271\n",
              "hour                   5898271\n",
              "ride_length            5898271\n",
              "ride_length_minutes    5898271\n",
              "dtype: int64"
            ]
          },
          "metadata": {},
          "execution_count": 36
        }
      ],
      "source": [
        "df.query('ride_length_minutes < 1500').count()"
      ]
    },
    {
      "cell_type": "code",
      "execution_count": 37,
      "metadata": {
        "id": "vuubm3ZCKiDp"
      },
      "outputs": [],
      "source": [
        "df = df.query('ride_length_minutes < 1500')"
      ]
    },
    {
      "cell_type": "code",
      "source": [
        "df.head()"
      ],
      "metadata": {
        "colab": {
          "base_uri": "https://localhost:8080/",
          "height": 444
        },
        "id": "kFj4Ogn9ni5-",
        "outputId": "b10782f3-56df-4c39-81de-d0e8de8151d5"
      },
      "execution_count": 38,
      "outputs": [
        {
          "output_type": "execute_result",
          "data": {
            "text/plain": [
              "                 ride_id  rideable_type          started_at  \\\n",
              "634177  B8BA05857944F445  electric_bike 2021-07-01 00:00:22   \n",
              "678771  B68C8C61487B5C15   classic_bike 2021-07-01 00:00:30   \n",
              "433589  3FBF4B489DE3F24E    docked_bike 2021-07-01 00:00:42   \n",
              "247538  8A1D30385234151D   classic_bike 2021-07-01 00:00:47   \n",
              "782139  D5AA171FAE3335A7   classic_bike 2021-07-01 00:00:53   \n",
              "\n",
              "                  ended_at member_casual day_of_week  int_day_of_week  \\\n",
              "634177 2021-07-01 00:04:51        Member    Thursday                4   \n",
              "678771 2021-07-01 00:46:58        Casual    Thursday                4   \n",
              "433589 2021-07-01 00:10:25        Casual    Thursday                4   \n",
              "247538 2021-07-01 00:28:11        Casual    Thursday                4   \n",
              "782139 2021-07-01 00:16:43        Casual    Thursday                4   \n",
              "\n",
              "        int_month month  hour     ride_length  ride_length_minutes  \n",
              "634177          7  July     0 0 days 00:04:29                 4.48  \n",
              "678771          7  July     0 0 days 00:46:28                46.47  \n",
              "433589          7  July     0 0 days 00:09:43                 9.72  \n",
              "247538          7  July     0 0 days 00:27:24                27.40  \n",
              "782139          7  July     0 0 days 00:15:50                15.83  "
            ],
            "text/html": [
              "\n",
              "  <div id=\"df-e2a6804a-2e86-40fd-94ef-5910e104f562\">\n",
              "    <div class=\"colab-df-container\">\n",
              "      <div>\n",
              "<style scoped>\n",
              "    .dataframe tbody tr th:only-of-type {\n",
              "        vertical-align: middle;\n",
              "    }\n",
              "\n",
              "    .dataframe tbody tr th {\n",
              "        vertical-align: top;\n",
              "    }\n",
              "\n",
              "    .dataframe thead th {\n",
              "        text-align: right;\n",
              "    }\n",
              "</style>\n",
              "<table border=\"1\" class=\"dataframe\">\n",
              "  <thead>\n",
              "    <tr style=\"text-align: right;\">\n",
              "      <th></th>\n",
              "      <th>ride_id</th>\n",
              "      <th>rideable_type</th>\n",
              "      <th>started_at</th>\n",
              "      <th>ended_at</th>\n",
              "      <th>member_casual</th>\n",
              "      <th>day_of_week</th>\n",
              "      <th>int_day_of_week</th>\n",
              "      <th>int_month</th>\n",
              "      <th>month</th>\n",
              "      <th>hour</th>\n",
              "      <th>ride_length</th>\n",
              "      <th>ride_length_minutes</th>\n",
              "    </tr>\n",
              "  </thead>\n",
              "  <tbody>\n",
              "    <tr>\n",
              "      <th>634177</th>\n",
              "      <td>B8BA05857944F445</td>\n",
              "      <td>electric_bike</td>\n",
              "      <td>2021-07-01 00:00:22</td>\n",
              "      <td>2021-07-01 00:04:51</td>\n",
              "      <td>Member</td>\n",
              "      <td>Thursday</td>\n",
              "      <td>4</td>\n",
              "      <td>7</td>\n",
              "      <td>July</td>\n",
              "      <td>0</td>\n",
              "      <td>0 days 00:04:29</td>\n",
              "      <td>4.48</td>\n",
              "    </tr>\n",
              "    <tr>\n",
              "      <th>678771</th>\n",
              "      <td>B68C8C61487B5C15</td>\n",
              "      <td>classic_bike</td>\n",
              "      <td>2021-07-01 00:00:30</td>\n",
              "      <td>2021-07-01 00:46:58</td>\n",
              "      <td>Casual</td>\n",
              "      <td>Thursday</td>\n",
              "      <td>4</td>\n",
              "      <td>7</td>\n",
              "      <td>July</td>\n",
              "      <td>0</td>\n",
              "      <td>0 days 00:46:28</td>\n",
              "      <td>46.47</td>\n",
              "    </tr>\n",
              "    <tr>\n",
              "      <th>433589</th>\n",
              "      <td>3FBF4B489DE3F24E</td>\n",
              "      <td>docked_bike</td>\n",
              "      <td>2021-07-01 00:00:42</td>\n",
              "      <td>2021-07-01 00:10:25</td>\n",
              "      <td>Casual</td>\n",
              "      <td>Thursday</td>\n",
              "      <td>4</td>\n",
              "      <td>7</td>\n",
              "      <td>July</td>\n",
              "      <td>0</td>\n",
              "      <td>0 days 00:09:43</td>\n",
              "      <td>9.72</td>\n",
              "    </tr>\n",
              "    <tr>\n",
              "      <th>247538</th>\n",
              "      <td>8A1D30385234151D</td>\n",
              "      <td>classic_bike</td>\n",
              "      <td>2021-07-01 00:00:47</td>\n",
              "      <td>2021-07-01 00:28:11</td>\n",
              "      <td>Casual</td>\n",
              "      <td>Thursday</td>\n",
              "      <td>4</td>\n",
              "      <td>7</td>\n",
              "      <td>July</td>\n",
              "      <td>0</td>\n",
              "      <td>0 days 00:27:24</td>\n",
              "      <td>27.40</td>\n",
              "    </tr>\n",
              "    <tr>\n",
              "      <th>782139</th>\n",
              "      <td>D5AA171FAE3335A7</td>\n",
              "      <td>classic_bike</td>\n",
              "      <td>2021-07-01 00:00:53</td>\n",
              "      <td>2021-07-01 00:16:43</td>\n",
              "      <td>Casual</td>\n",
              "      <td>Thursday</td>\n",
              "      <td>4</td>\n",
              "      <td>7</td>\n",
              "      <td>July</td>\n",
              "      <td>0</td>\n",
              "      <td>0 days 00:15:50</td>\n",
              "      <td>15.83</td>\n",
              "    </tr>\n",
              "  </tbody>\n",
              "</table>\n",
              "</div>\n",
              "      <button class=\"colab-df-convert\" onclick=\"convertToInteractive('df-e2a6804a-2e86-40fd-94ef-5910e104f562')\"\n",
              "              title=\"Convert this dataframe to an interactive table.\"\n",
              "              style=\"display:none;\">\n",
              "        \n",
              "  <svg xmlns=\"http://www.w3.org/2000/svg\" height=\"24px\"viewBox=\"0 0 24 24\"\n",
              "       width=\"24px\">\n",
              "    <path d=\"M0 0h24v24H0V0z\" fill=\"none\"/>\n",
              "    <path d=\"M18.56 5.44l.94 2.06.94-2.06 2.06-.94-2.06-.94-.94-2.06-.94 2.06-2.06.94zm-11 1L8.5 8.5l.94-2.06 2.06-.94-2.06-.94L8.5 2.5l-.94 2.06-2.06.94zm10 10l.94 2.06.94-2.06 2.06-.94-2.06-.94-.94-2.06-.94 2.06-2.06.94z\"/><path d=\"M17.41 7.96l-1.37-1.37c-.4-.4-.92-.59-1.43-.59-.52 0-1.04.2-1.43.59L10.3 9.45l-7.72 7.72c-.78.78-.78 2.05 0 2.83L4 21.41c.39.39.9.59 1.41.59.51 0 1.02-.2 1.41-.59l7.78-7.78 2.81-2.81c.8-.78.8-2.07 0-2.86zM5.41 20L4 18.59l7.72-7.72 1.47 1.35L5.41 20z\"/>\n",
              "  </svg>\n",
              "      </button>\n",
              "      \n",
              "  <style>\n",
              "    .colab-df-container {\n",
              "      display:flex;\n",
              "      flex-wrap:wrap;\n",
              "      gap: 12px;\n",
              "    }\n",
              "\n",
              "    .colab-df-convert {\n",
              "      background-color: #E8F0FE;\n",
              "      border: none;\n",
              "      border-radius: 50%;\n",
              "      cursor: pointer;\n",
              "      display: none;\n",
              "      fill: #1967D2;\n",
              "      height: 32px;\n",
              "      padding: 0 0 0 0;\n",
              "      width: 32px;\n",
              "    }\n",
              "\n",
              "    .colab-df-convert:hover {\n",
              "      background-color: #E2EBFA;\n",
              "      box-shadow: 0px 1px 2px rgba(60, 64, 67, 0.3), 0px 1px 3px 1px rgba(60, 64, 67, 0.15);\n",
              "      fill: #174EA6;\n",
              "    }\n",
              "\n",
              "    [theme=dark] .colab-df-convert {\n",
              "      background-color: #3B4455;\n",
              "      fill: #D2E3FC;\n",
              "    }\n",
              "\n",
              "    [theme=dark] .colab-df-convert:hover {\n",
              "      background-color: #434B5C;\n",
              "      box-shadow: 0px 1px 3px 1px rgba(0, 0, 0, 0.15);\n",
              "      filter: drop-shadow(0px 1px 2px rgba(0, 0, 0, 0.3));\n",
              "      fill: #FFFFFF;\n",
              "    }\n",
              "  </style>\n",
              "\n",
              "      <script>\n",
              "        const buttonEl =\n",
              "          document.querySelector('#df-e2a6804a-2e86-40fd-94ef-5910e104f562 button.colab-df-convert');\n",
              "        buttonEl.style.display =\n",
              "          google.colab.kernel.accessAllowed ? 'block' : 'none';\n",
              "\n",
              "        async function convertToInteractive(key) {\n",
              "          const element = document.querySelector('#df-e2a6804a-2e86-40fd-94ef-5910e104f562');\n",
              "          const dataTable =\n",
              "            await google.colab.kernel.invokeFunction('convertToInteractive',\n",
              "                                                     [key], {});\n",
              "          if (!dataTable) return;\n",
              "\n",
              "          const docLinkHtml = 'Like what you see? Visit the ' +\n",
              "            '<a target=\"_blank\" href=https://colab.research.google.com/notebooks/data_table.ipynb>data table notebook</a>'\n",
              "            + ' to learn more about interactive tables.';\n",
              "          element.innerHTML = '';\n",
              "          dataTable['output_type'] = 'display_data';\n",
              "          await google.colab.output.renderOutput(dataTable, element);\n",
              "          const docLink = document.createElement('div');\n",
              "          docLink.innerHTML = docLinkHtml;\n",
              "          element.appendChild(docLink);\n",
              "        }\n",
              "      </script>\n",
              "    </div>\n",
              "  </div>\n",
              "  "
            ]
          },
          "metadata": {},
          "execution_count": 38
        }
      ]
    },
    {
      "cell_type": "markdown",
      "metadata": {
        "id": "qZteXwZtKlu8"
      },
      "source": [
        "# 🎲 Data analysis"
      ]
    },
    {
      "cell_type": "markdown",
      "metadata": {
        "id": "xJoXdl3VOWuS"
      },
      "source": [
        "## Statistical overview of ride lengths x days of week using boxplot\n",
        "\n",
        "* Saturday and Sunday are the days with the longest trips, and trips that lasts more than ~45 minutes would be considereted outlies using the IQR 1.5 rules.\n",
        "* For all the other days of the week, the IQR 1.5 rule stablish outliers between 30 and 40 minutes."
      ]
    },
    {
      "cell_type": "code",
      "source": [
        "two_hour_rides = df[[\"ride_length_minutes\", \"day_of_week\", \"member_casual\"]].query(\"ride_length_minutes <= 120\")\n",
        "one_hour_rides = df[[\"ride_length_minutes\", \"day_of_week\", \"member_casual\"]].query(\"ride_length_minutes <= 60\")"
      ],
      "metadata": {
        "id": "5ffvZ840J279"
      },
      "execution_count": 85,
      "outputs": []
    },
    {
      "cell_type": "markdown",
      "source": [
        "### ⏹Total Ride Length x Day of Week\n",
        "\n",
        "```python\n",
        "with sns.axes_style('whitegrid'):\n",
        "\n",
        "  grafico = sns.boxplot(x=df[\"ride_length_minutes\"], y=df[\"day_of_week\"], palette=\"viridis\")\n",
        "  grafico.set(title=\"Ride Length in Minutes for each day of week\", xlabel=\"Ride Length\", ylabel=\"Day of week\")\n",
        "  grafico.figure.set_size_inches(w=20, h=7)\n",
        "```\n",
        "\n",
        "![](https://drive.google.com/uc?export=view&id=19lFRUmz4oxb9MrFCjAqs3WkNMYYk7HW0)\n",
        "Fig. 1 - Boxplot of ride length in minutes for each day of week\n",
        "\n",
        "---\n",
        "\n",
        "```python\n",
        "with sns.axes_style('whitegrid'):\n",
        "\n",
        "  grafico = sns.boxplot(x=two_hour_rides[\"ride_length_minutes\"], y=two_hour_rides[\"day_of_week\"], palette=\"viridis\")\n",
        "  grafico.set(title=\"Ride Length in Minutes for each day of week\", xlabel=\"Ride Length\", ylabel=\"Day of week\");\n",
        "  grafico.figure.set_size_inches(w=20, h=7)\n",
        "```\n",
        "\n",
        "![](https://drive.google.com/uc?export=view&id=19lPvsxHAtYjHt-IPqrXaDRN6m4xDeH9w)\n",
        "Fig 2. Boxplot of ride length for rides between 0 and 120 minutes\n",
        "\n",
        "---\n",
        "\n",
        "```python\n",
        "with sns.axes_style('whitegrid'):\n",
        "\n",
        "  grafico = sns.boxplot(x=one_hour_rides[\"ride_length_minutes\"], y=one_hour_rides[\"day_of_week\"], palette=\"viridis\")\n",
        "  grafico.set(title=\"Ride Length in Minutes for each day of week\", xlabel=\"Ride Length\", ylabel=\"Day of week\");\n",
        "  grafico.figure.set_size_inches(w=20, h=7)\n",
        "```\n",
        "\n",
        "![](https://drive.google.com/uc?export=view&id=19m38IRJQJGGq0eqmuakiE6eIdu6TCHUT)\n",
        "\n",
        "Fig 3. Boxplot of ride length for rides between 0 and 60 minutes\n",
        "\n",
        "---\n",
        "\n",
        "```python\n",
        "with sns.axes_style('whitegrid'):\n",
        "\n",
        "  grafico = sns.violinplot(x=one_hour_rides[\"day_of_week\"], y=one_hour_rides[\"ride_length_minutes\"], hue=one_hour_rides[\"member_casual\"], palette=\"viridis\")\n",
        "  grafico.set(title=\"Ride Length in Minutes for each day of week\", xlabel=\"Day of week\", ylabel=\"Ride Length\");\n",
        "  grafico.figure.set_size_inches(w=20, h=12)\n",
        "```\n",
        "![](https://drive.google.com/uc?export=view&id=19mq-8A0qJTMjixTzIvKWTeA0RjQmS4uC&)\n",
        "Fig. 4: Violin plot of ride length in minutes for each day of week with less than one hour\n",
        "\n",
        "---"
      ],
      "metadata": {
        "id": "d_hbR9SSrLez"
      }
    },
    {
      "cell_type": "code",
      "execution_count": 39,
      "metadata": {
        "id": "okoYdV80Xo4y"
      },
      "outputs": [],
      "source": [
        "# Color palettes\n",
        "my_palette = ['#3c9ab2', '#56a6ba', '#71b3c2', '#88b774', '#d1c74c', '#e8c520', '#e4b80d', '#e29e00', '#ea5c00', '#f22300']\n",
        "customPalette = sns.set_palette(sns.color_palette(my_palette))\n",
        "\n",
        "#colors_member_casual = {\"member\": \"#FBB040\", \"casual\": \"#506F86\" }\n",
        "colors_member_casual = {\"Member\": '#88b774', \"Casual\": '#ea5c00' }\n",
        "colors_day_of_week = {'Monday': '#3c9ab2', 'Tuesday': '#71b3c2', 'Wednesday': '#88b774', 'Thursday': '#ffde45', 'Friday': '#e4b80d', 'Saturday': '#ea5c00', 'Sunday': '#f22300'}\n",
        "sns.set_palette(\"viridis\")"
      ]
    },
    {
      "cell_type": "code",
      "execution_count": 40,
      "metadata": {
        "id": "nTwt48ZldjhD"
      },
      "outputs": [],
      "source": [
        "#Fig 1:\n",
        "# with sns.axes_style('whitegrid'):\n",
        "#   grafico = sns.boxplot(x=df[\"ride_length_minutes\"], y=df[\"day_of_week\"], order=days_order, palette=colors_day_of_week)\n",
        "#   grafico.set(title=\"Ride Length in Minutes for each day of week\", xlabel=\"Ride Length\", ylabel=\"Day of week\")\n",
        "#   grafico.figure.set_size_inches(w=20, h=7)"
      ]
    },
    {
      "cell_type": "code",
      "execution_count": 41,
      "metadata": {
        "id": "1fw2ghAqOi9P"
      },
      "outputs": [],
      "source": [
        "# Fig. 2:\n",
        "two_hour_rides = df[[\"ride_length_minutes\", \"day_of_week\", \"member_casual\"]].query(\"ride_length_minutes <= 120\")\n",
        "\n",
        "# with sns.axes_style('whitegrid'):\n",
        "#   grafico = sns.boxplot(x=two_hour_rides[\"ride_length_minutes\"], y=two_hour_rides[\"day_of_week\"], order=days_order, palette=colors_day_of_week)\n",
        "#   grafico.set(title=\"Ride Length in Minutes for each day of week\", xlabel=\"Ride Length\", ylabel=\"Day of week\");\n",
        "#   grafico.figure.set_size_inches(w=20, h=7)"
      ]
    },
    {
      "cell_type": "code",
      "execution_count": 42,
      "metadata": {
        "id": "gUJCeYzDoop9"
      },
      "outputs": [],
      "source": [
        "# Fig. 3:\n",
        "one_hour_rides = df[[\"ride_length_minutes\", \"day_of_week\", \"member_casual\"]].query(\"ride_length_minutes <= 60\")\n",
        "\n",
        "# with sns.axes_style('whitegrid'):\n",
        "#   grafico = sns.boxplot(x=one_hour_rides[\"ride_length_minutes\"], y=one_hour_rides[\"day_of_week\"], order=days_order, palette=colors_day_of_week)\n",
        "#   grafico.set(title=\"Ride Length in Minutes for each day of week\", xlabel=\"Ride Length\", ylabel=\"Day of week\");\n",
        "#   grafico.figure.set_size_inches(w=20, h=7)"
      ]
    },
    {
      "cell_type": "code",
      "execution_count": 43,
      "metadata": {
        "id": "FqXzBAev1Abm"
      },
      "outputs": [],
      "source": [
        "# Fig. 4:\n",
        "# with sns.axes_style('whitegrid'):\n",
        "#   grafico = sns.violinplot(x=one_hour_rides[\"day_of_week\"], y=one_hour_rides[\"ride_length_minutes\"], hue=one_hour_rides[\"member_casual\"], palette=colors_member_casual)\n",
        "#   grafico.set(title=\"Ride Length in Minutes for each day of week\", xlabel=\"Day of week\", ylabel=\"Ride Length\");\n",
        "#   plt.legend(title=\"Costumer type\", loc = 2, bbox_to_anchor = (1,1))\n",
        "#   grafico.figure.set_size_inches(w=20, h=12)"
      ]
    },
    {
      "cell_type": "markdown",
      "metadata": {
        "id": "iKAhhkJysRbY"
      },
      "source": [
        "## 📝 Average ride length and other statistical measures for members/casual riders\n",
        "\n",
        "* The average ride length for members was **12.98**\n",
        "* The average ride length for casual users was **26.18** \n",
        "* **Saturday** was the most frequent day used by casual riders\n",
        "* **Thursday** was the most frequent day used by members\n",
        "\n",
        "\n",
        "|member\\_casual|count|sum|mean|median|std|max|min|mode|i|\n",
        "|---|---|---|---|---|---|---|---|---|---|\n",
        "|casual|2556420|66937502\\.73|26\\.18407880160537|14\\.83|64\\.52889747668651|1499\\.97|0\\.02|8\\.42|18\\.6|\n",
        "|member|3341851|43389541\\.78|12\\.983685322894408|9\\.07|27\\.36090816276441|1499\\.97|0\\.02|4\\.33|10\\.48|\n",
        "\n",
        "\n"
      ]
    },
    {
      "cell_type": "markdown",
      "source": [
        "### Calculating IQR for members and casual users"
      ],
      "metadata": {
        "id": "4sIHH14QAxQp"
      }
    },
    {
      "cell_type": "code",
      "execution_count": 44,
      "metadata": {
        "colab": {
          "base_uri": "https://localhost:8080/",
          "height": 143
        },
        "id": "fpXB-737oiqb",
        "outputId": "0c428872-c9e0-4f6d-dfb7-7305b073af59"
      },
      "outputs": [
        {
          "output_type": "execute_result",
          "data": {
            "text/plain": [
              "               ride_length_minutes\n",
              "member_casual                     \n",
              "Casual                       18.60\n",
              "Member                       10.48"
            ],
            "text/html": [
              "\n",
              "  <div id=\"df-a79d256e-7ad5-4f0c-b32b-4186e18ebdec\">\n",
              "    <div class=\"colab-df-container\">\n",
              "      <div>\n",
              "<style scoped>\n",
              "    .dataframe tbody tr th:only-of-type {\n",
              "        vertical-align: middle;\n",
              "    }\n",
              "\n",
              "    .dataframe tbody tr th {\n",
              "        vertical-align: top;\n",
              "    }\n",
              "\n",
              "    .dataframe thead th {\n",
              "        text-align: right;\n",
              "    }\n",
              "</style>\n",
              "<table border=\"1\" class=\"dataframe\">\n",
              "  <thead>\n",
              "    <tr style=\"text-align: right;\">\n",
              "      <th></th>\n",
              "      <th>ride_length_minutes</th>\n",
              "    </tr>\n",
              "    <tr>\n",
              "      <th>member_casual</th>\n",
              "      <th></th>\n",
              "    </tr>\n",
              "  </thead>\n",
              "  <tbody>\n",
              "    <tr>\n",
              "      <th>Casual</th>\n",
              "      <td>18.60</td>\n",
              "    </tr>\n",
              "    <tr>\n",
              "      <th>Member</th>\n",
              "      <td>10.48</td>\n",
              "    </tr>\n",
              "  </tbody>\n",
              "</table>\n",
              "</div>\n",
              "      <button class=\"colab-df-convert\" onclick=\"convertToInteractive('df-a79d256e-7ad5-4f0c-b32b-4186e18ebdec')\"\n",
              "              title=\"Convert this dataframe to an interactive table.\"\n",
              "              style=\"display:none;\">\n",
              "        \n",
              "  <svg xmlns=\"http://www.w3.org/2000/svg\" height=\"24px\"viewBox=\"0 0 24 24\"\n",
              "       width=\"24px\">\n",
              "    <path d=\"M0 0h24v24H0V0z\" fill=\"none\"/>\n",
              "    <path d=\"M18.56 5.44l.94 2.06.94-2.06 2.06-.94-2.06-.94-.94-2.06-.94 2.06-2.06.94zm-11 1L8.5 8.5l.94-2.06 2.06-.94-2.06-.94L8.5 2.5l-.94 2.06-2.06.94zm10 10l.94 2.06.94-2.06 2.06-.94-2.06-.94-.94-2.06-.94 2.06-2.06.94z\"/><path d=\"M17.41 7.96l-1.37-1.37c-.4-.4-.92-.59-1.43-.59-.52 0-1.04.2-1.43.59L10.3 9.45l-7.72 7.72c-.78.78-.78 2.05 0 2.83L4 21.41c.39.39.9.59 1.41.59.51 0 1.02-.2 1.41-.59l7.78-7.78 2.81-2.81c.8-.78.8-2.07 0-2.86zM5.41 20L4 18.59l7.72-7.72 1.47 1.35L5.41 20z\"/>\n",
              "  </svg>\n",
              "      </button>\n",
              "      \n",
              "  <style>\n",
              "    .colab-df-container {\n",
              "      display:flex;\n",
              "      flex-wrap:wrap;\n",
              "      gap: 12px;\n",
              "    }\n",
              "\n",
              "    .colab-df-convert {\n",
              "      background-color: #E8F0FE;\n",
              "      border: none;\n",
              "      border-radius: 50%;\n",
              "      cursor: pointer;\n",
              "      display: none;\n",
              "      fill: #1967D2;\n",
              "      height: 32px;\n",
              "      padding: 0 0 0 0;\n",
              "      width: 32px;\n",
              "    }\n",
              "\n",
              "    .colab-df-convert:hover {\n",
              "      background-color: #E2EBFA;\n",
              "      box-shadow: 0px 1px 2px rgba(60, 64, 67, 0.3), 0px 1px 3px 1px rgba(60, 64, 67, 0.15);\n",
              "      fill: #174EA6;\n",
              "    }\n",
              "\n",
              "    [theme=dark] .colab-df-convert {\n",
              "      background-color: #3B4455;\n",
              "      fill: #D2E3FC;\n",
              "    }\n",
              "\n",
              "    [theme=dark] .colab-df-convert:hover {\n",
              "      background-color: #434B5C;\n",
              "      box-shadow: 0px 1px 3px 1px rgba(0, 0, 0, 0.15);\n",
              "      filter: drop-shadow(0px 1px 2px rgba(0, 0, 0, 0.3));\n",
              "      fill: #FFFFFF;\n",
              "    }\n",
              "  </style>\n",
              "\n",
              "      <script>\n",
              "        const buttonEl =\n",
              "          document.querySelector('#df-a79d256e-7ad5-4f0c-b32b-4186e18ebdec button.colab-df-convert');\n",
              "        buttonEl.style.display =\n",
              "          google.colab.kernel.accessAllowed ? 'block' : 'none';\n",
              "\n",
              "        async function convertToInteractive(key) {\n",
              "          const element = document.querySelector('#df-a79d256e-7ad5-4f0c-b32b-4186e18ebdec');\n",
              "          const dataTable =\n",
              "            await google.colab.kernel.invokeFunction('convertToInteractive',\n",
              "                                                     [key], {});\n",
              "          if (!dataTable) return;\n",
              "\n",
              "          const docLinkHtml = 'Like what you see? Visit the ' +\n",
              "            '<a target=\"_blank\" href=https://colab.research.google.com/notebooks/data_table.ipynb>data table notebook</a>'\n",
              "            + ' to learn more about interactive tables.';\n",
              "          element.innerHTML = '';\n",
              "          dataTable['output_type'] = 'display_data';\n",
              "          await google.colab.output.renderOutput(dataTable, element);\n",
              "          const docLink = document.createElement('div');\n",
              "          docLink.innerHTML = docLinkHtml;\n",
              "          element.appendChild(docLink);\n",
              "        }\n",
              "      </script>\n",
              "    </div>\n",
              "  </div>\n",
              "  "
            ]
          },
          "metadata": {},
          "execution_count": 44
        }
      ],
      "source": [
        "# Calculating IQR for members and casual users\n",
        "grouped_df = df[['ride_length_minutes', 'member_casual']].groupby('member_casual')\n",
        "q1, q3 = grouped_df.quantile(0.25), grouped_df.quantile(0.75)\n",
        "iqr = q3 - q1\n",
        "iqr"
      ]
    },
    {
      "cell_type": "markdown",
      "source": [
        "### Creating a dataframe for statistical measures and merging with IQR"
      ],
      "metadata": {
        "id": "ACkhIu_LA24T"
      }
    },
    {
      "cell_type": "code",
      "execution_count": 45,
      "metadata": {
        "id": "UgBtPwKMmEXc"
      },
      "outputs": [],
      "source": [
        "grouped_member_casual = df[['ride_length_minutes', 'member_casual']].groupby('member_casual').agg(['count', 'sum', 'mean', 'median', 'std', 'max', 'min', pd.Series.mode])\n"
      ]
    },
    {
      "cell_type": "code",
      "execution_count": 46,
      "metadata": {
        "id": "1fWgVytNsJaC",
        "colab": {
          "base_uri": "https://localhost:8080/"
        },
        "outputId": "27a907e6-29b7-4f6a-a8a2-57147f3ee39b"
      },
      "outputs": [
        {
          "output_type": "stream",
          "name": "stderr",
          "text": [
            "/usr/local/lib/python3.7/dist-packages/ipykernel_launcher.py:1: FutureWarning: merging between different levels is deprecated and will be removed in a future version. (2 levels on the left,1 on the right)\n",
            "  \"\"\"Entry point for launching an IPython kernel.\n"
          ]
        }
      ],
      "source": [
        "user_statistics = pd.merge(left=grouped_member_casual, right=iqr, on='member_casual', how=\"inner\")\n"
      ]
    },
    {
      "cell_type": "code",
      "source": [
        "user_statistics = user_statistics.rename(lambda x: x[1], axis=1)"
      ],
      "metadata": {
        "id": "lBNCyn3jscyZ"
      },
      "execution_count": 47,
      "outputs": []
    },
    {
      "cell_type": "code",
      "execution_count": 48,
      "metadata": {
        "colab": {
          "base_uri": "https://localhost:8080/",
          "height": 143
        },
        "id": "D5feIe46r2wL",
        "outputId": "534a81d3-368c-4d4d-91f9-7de798ead28c"
      },
      "outputs": [
        {
          "output_type": "execute_result",
          "data": {
            "text/plain": [
              "                 count          sum       mean  median        std      max  \\\n",
              "member_casual                                                                \n",
              "Casual         2556420  66937502.73  26.184079   14.83  64.528897  1499.97   \n",
              "Member         3341851  43389541.78  12.983685    9.07  27.360908  1499.97   \n",
              "\n",
              "                min  mode      i  \n",
              "member_casual                     \n",
              "Casual         0.02  8.42  18.60  \n",
              "Member         0.02  4.33  10.48  "
            ],
            "text/html": [
              "\n",
              "  <div id=\"df-a87a0f4e-b408-447d-8a79-9b621fb546fa\">\n",
              "    <div class=\"colab-df-container\">\n",
              "      <div>\n",
              "<style scoped>\n",
              "    .dataframe tbody tr th:only-of-type {\n",
              "        vertical-align: middle;\n",
              "    }\n",
              "\n",
              "    .dataframe tbody tr th {\n",
              "        vertical-align: top;\n",
              "    }\n",
              "\n",
              "    .dataframe thead th {\n",
              "        text-align: right;\n",
              "    }\n",
              "</style>\n",
              "<table border=\"1\" class=\"dataframe\">\n",
              "  <thead>\n",
              "    <tr style=\"text-align: right;\">\n",
              "      <th></th>\n",
              "      <th>count</th>\n",
              "      <th>sum</th>\n",
              "      <th>mean</th>\n",
              "      <th>median</th>\n",
              "      <th>std</th>\n",
              "      <th>max</th>\n",
              "      <th>min</th>\n",
              "      <th>mode</th>\n",
              "      <th>i</th>\n",
              "    </tr>\n",
              "    <tr>\n",
              "      <th>member_casual</th>\n",
              "      <th></th>\n",
              "      <th></th>\n",
              "      <th></th>\n",
              "      <th></th>\n",
              "      <th></th>\n",
              "      <th></th>\n",
              "      <th></th>\n",
              "      <th></th>\n",
              "      <th></th>\n",
              "    </tr>\n",
              "  </thead>\n",
              "  <tbody>\n",
              "    <tr>\n",
              "      <th>Casual</th>\n",
              "      <td>2556420</td>\n",
              "      <td>66937502.73</td>\n",
              "      <td>26.184079</td>\n",
              "      <td>14.83</td>\n",
              "      <td>64.528897</td>\n",
              "      <td>1499.97</td>\n",
              "      <td>0.02</td>\n",
              "      <td>8.42</td>\n",
              "      <td>18.60</td>\n",
              "    </tr>\n",
              "    <tr>\n",
              "      <th>Member</th>\n",
              "      <td>3341851</td>\n",
              "      <td>43389541.78</td>\n",
              "      <td>12.983685</td>\n",
              "      <td>9.07</td>\n",
              "      <td>27.360908</td>\n",
              "      <td>1499.97</td>\n",
              "      <td>0.02</td>\n",
              "      <td>4.33</td>\n",
              "      <td>10.48</td>\n",
              "    </tr>\n",
              "  </tbody>\n",
              "</table>\n",
              "</div>\n",
              "      <button class=\"colab-df-convert\" onclick=\"convertToInteractive('df-a87a0f4e-b408-447d-8a79-9b621fb546fa')\"\n",
              "              title=\"Convert this dataframe to an interactive table.\"\n",
              "              style=\"display:none;\">\n",
              "        \n",
              "  <svg xmlns=\"http://www.w3.org/2000/svg\" height=\"24px\"viewBox=\"0 0 24 24\"\n",
              "       width=\"24px\">\n",
              "    <path d=\"M0 0h24v24H0V0z\" fill=\"none\"/>\n",
              "    <path d=\"M18.56 5.44l.94 2.06.94-2.06 2.06-.94-2.06-.94-.94-2.06-.94 2.06-2.06.94zm-11 1L8.5 8.5l.94-2.06 2.06-.94-2.06-.94L8.5 2.5l-.94 2.06-2.06.94zm10 10l.94 2.06.94-2.06 2.06-.94-2.06-.94-.94-2.06-.94 2.06-2.06.94z\"/><path d=\"M17.41 7.96l-1.37-1.37c-.4-.4-.92-.59-1.43-.59-.52 0-1.04.2-1.43.59L10.3 9.45l-7.72 7.72c-.78.78-.78 2.05 0 2.83L4 21.41c.39.39.9.59 1.41.59.51 0 1.02-.2 1.41-.59l7.78-7.78 2.81-2.81c.8-.78.8-2.07 0-2.86zM5.41 20L4 18.59l7.72-7.72 1.47 1.35L5.41 20z\"/>\n",
              "  </svg>\n",
              "      </button>\n",
              "      \n",
              "  <style>\n",
              "    .colab-df-container {\n",
              "      display:flex;\n",
              "      flex-wrap:wrap;\n",
              "      gap: 12px;\n",
              "    }\n",
              "\n",
              "    .colab-df-convert {\n",
              "      background-color: #E8F0FE;\n",
              "      border: none;\n",
              "      border-radius: 50%;\n",
              "      cursor: pointer;\n",
              "      display: none;\n",
              "      fill: #1967D2;\n",
              "      height: 32px;\n",
              "      padding: 0 0 0 0;\n",
              "      width: 32px;\n",
              "    }\n",
              "\n",
              "    .colab-df-convert:hover {\n",
              "      background-color: #E2EBFA;\n",
              "      box-shadow: 0px 1px 2px rgba(60, 64, 67, 0.3), 0px 1px 3px 1px rgba(60, 64, 67, 0.15);\n",
              "      fill: #174EA6;\n",
              "    }\n",
              "\n",
              "    [theme=dark] .colab-df-convert {\n",
              "      background-color: #3B4455;\n",
              "      fill: #D2E3FC;\n",
              "    }\n",
              "\n",
              "    [theme=dark] .colab-df-convert:hover {\n",
              "      background-color: #434B5C;\n",
              "      box-shadow: 0px 1px 3px 1px rgba(0, 0, 0, 0.15);\n",
              "      filter: drop-shadow(0px 1px 2px rgba(0, 0, 0, 0.3));\n",
              "      fill: #FFFFFF;\n",
              "    }\n",
              "  </style>\n",
              "\n",
              "      <script>\n",
              "        const buttonEl =\n",
              "          document.querySelector('#df-a87a0f4e-b408-447d-8a79-9b621fb546fa button.colab-df-convert');\n",
              "        buttonEl.style.display =\n",
              "          google.colab.kernel.accessAllowed ? 'block' : 'none';\n",
              "\n",
              "        async function convertToInteractive(key) {\n",
              "          const element = document.querySelector('#df-a87a0f4e-b408-447d-8a79-9b621fb546fa');\n",
              "          const dataTable =\n",
              "            await google.colab.kernel.invokeFunction('convertToInteractive',\n",
              "                                                     [key], {});\n",
              "          if (!dataTable) return;\n",
              "\n",
              "          const docLinkHtml = 'Like what you see? Visit the ' +\n",
              "            '<a target=\"_blank\" href=https://colab.research.google.com/notebooks/data_table.ipynb>data table notebook</a>'\n",
              "            + ' to learn more about interactive tables.';\n",
              "          element.innerHTML = '';\n",
              "          dataTable['output_type'] = 'display_data';\n",
              "          await google.colab.output.renderOutput(dataTable, element);\n",
              "          const docLink = document.createElement('div');\n",
              "          docLink.innerHTML = docLinkHtml;\n",
              "          element.appendChild(docLink);\n",
              "        }\n",
              "      </script>\n",
              "    </div>\n",
              "  </div>\n",
              "  "
            ]
          },
          "metadata": {},
          "execution_count": 48
        }
      ],
      "source": [
        "user_statistics"
      ]
    },
    {
      "cell_type": "markdown",
      "source": [
        "# 📊 Plotting the results"
      ],
      "metadata": {
        "id": "iGH2QPywPQvW"
      }
    },
    {
      "cell_type": "code",
      "execution_count": 49,
      "metadata": {
        "id": "NU-qywABaGJ6"
      },
      "outputs": [],
      "source": [
        "month_count = df[['ride_length_minutes', 'member_casual', 'month']].groupby(['month', 'member_casual'], as_index=False).agg('count')\n"
      ]
    },
    {
      "cell_type": "markdown",
      "metadata": {
        "id": "zxa9us3TrdOj"
      },
      "source": [
        "## ⏹ Fig. 5: Total Ride Length x Costumer Type\n",
        "\n",
        "```python\n",
        "with sns.axes_style('whitegrid'):\n",
        "  grafico = sns.boxplot(x=df[\"ride_length_minutes\"], y=df[\"member_casual\"], palette=colors_member_casual)\n",
        "  grafico.set(title=\"Ride Length in Minutes for member type\", xlabel=\"Ride Length\", ylabel=\"Costumer Type\");\n",
        "  grafico.figure.set_size_inches(w=20, h=7)\n",
        "```\n",
        "\n",
        "![](https://drive.google.com/uc?export=view&id=19nXUAK1S_xIAOXxq5Wp0s03x7Dbj1r0g\n",
        ")\n",
        "\n",
        "Fig. 5: Boxplot of ride length in minutes for costumer type\n",
        "\n",
        "---\n"
      ]
    },
    {
      "cell_type": "code",
      "execution_count": 50,
      "metadata": {
        "id": "G8Yd1VSjlBF8"
      },
      "outputs": [],
      "source": [
        "# Fig. 5:\n",
        "# with sns.axes_style('whitegrid'):\n",
        "#   grafico = sns.boxplot(x=df[\"ride_length_minutes\"], y=df[\"member_casual\"], palette=colors_member_casual)\n",
        "#   grafico.set(title=\"Ride Length in Minutes for member type\", xlabel=\"Ride Length\", ylabel=\"Costumer Type\");\n",
        "#   grafico.figure.set_size_inches(w=20, h=7)"
      ]
    },
    {
      "cell_type": "markdown",
      "source": [
        "## ⏹ Fig. 6: Total Ride Length (< 2h) x Costumer tipe\n",
        "```python\n",
        "with sns.axes_style('whitegrid'):\n",
        "\n",
        "  grafico = sns.boxplot(x=two_hour_rides[\"ride_length_minutes\"], y=two_hour_rides[\"member_casual\"], palette=colors_member_casual)\n",
        "  grafico.set(title=\"Ride Length in Minutes for member type\", xlabel=\"Ride Length\", ylabel=\"Costumer Type\");\n",
        "  grafico.figure.set_size_inches(w=20, h=7)\n",
        "```\n",
        "\n",
        "![](https://drive.google.com/uc?export=view&id=19nwMsA4RXoRhdAZBmPw3Qo-Pq42OH0-p)\n",
        "\n",
        "Fig. 6 Boxplot of ride length for rides between 0 and 120 minutes for costumer type\n",
        "\n",
        "---\n"
      ],
      "metadata": {
        "id": "OOzo-oZlQyxh"
      }
    },
    {
      "cell_type": "code",
      "execution_count": 51,
      "metadata": {
        "id": "J_6f9WSvP1Ur"
      },
      "outputs": [],
      "source": [
        "# Fig. 6:\n",
        "# with sns.axes_style('whitegrid'):\n",
        "\n",
        "#   grafico = sns.boxplot(x=two_hour_rides[\"ride_length_minutes\"], y=two_hour_rides[\"member_casual\"], palette=colors_member_casual)\n",
        "#   grafico.set(title=\"Ride Length in Minutes for member type\", xlabel=\"Ride Length\", ylabel=\"Costumer Type\");\n",
        "#   grafico.figure.set_size_inches(w=20, h=7)"
      ]
    },
    {
      "cell_type": "markdown",
      "metadata": {
        "id": "8S340Vh-yO2_"
      },
      "source": [
        "## 🟠 Monthly Day of Week x Total Ride Length"
      ]
    },
    {
      "cell_type": "markdown",
      "source": [
        "```python\n",
        "grafico = sns.relplot(data=df, y='ride_length_minutes', x='int_day_of_week', hue=\"member_casual\", col=\"int_month\", col_order=months_order,col_wrap=3, alpha=0.7, palette=colors_member_casual)\n",
        "grafico.set(title=\"Average ride length in minutes for each day of week by month (2021-2022)\", ylabel=\"Total ride length (minutes)\", xlabel=\"Day of week\")\n",
        "grafico.fig.subplots_adjust(top=.9)\n",
        "grafico.set_titles(col_template=\"{col_name}\")\n",
        "```\n",
        "\n",
        "![](https://drive.google.com/uc?export=view&id=1A2lDlwuZGABIfpHfEFbYr6hFHz-uvNlN)\n",
        "Fig. 7: Monthly Day of Week x Total ride length from July 2021 - June 2022\n",
        "\n",
        "---"
      ],
      "metadata": {
        "id": "k9UaR7VSKbGd"
      }
    },
    {
      "cell_type": "code",
      "execution_count": null,
      "metadata": {
        "id": "qe1yCg6h4aXy"
      },
      "outputs": [],
      "source": [
        "# Fig. 7\n",
        "\n",
        "# grafico = sns.relplot(data=df, y='ride_length_minutes', x='int_day_of_week', hue=\"member_casual\", col=\"int_month\", col_order=months_order,col_wrap=3, alpha=0.7, palette=colors_member_casual)\n",
        "# grafico.set(title=\"Average ride length in minutes for each day of week by month (2021-2022)\", ylabel=\"Total ride length (minutes)\", xlabel=\"Day of week\")\n",
        "# grafico.fig.subplots_adjust(top=.9)\n",
        "# grafico.set_titles(col_template=\"{col_name}\")"
      ]
    },
    {
      "cell_type": "markdown",
      "source": [
        "## 📊 Month | Day of Week x Avg Ride Length "
      ],
      "metadata": {
        "id": "MMZVmGbwFu1A"
      }
    },
    {
      "cell_type": "markdown",
      "source": [
        "```python\n",
        "with sns.axes_style('whitegrid'):\n",
        "  g = sns.barplot(data=df, \n",
        "                  y='ride_length_minutes', \n",
        "                  x='int_month', \n",
        "                  order=months_order, \n",
        "                  hue=\"day_of_week\", \n",
        "                  hue_order=days_order, \n",
        "                  palette=colors_day_of_week, \n",
        "                  capsize=.15, \n",
        "                  errwidth=0.2)\n",
        "  g.set_title(\"Average ride length in minutes per month (2021 - 2022)\", fontsize=14, fontweight=\"bold\");\n",
        "  g.set(xlabel=\"Month\", ylabel=\"Average ride length\")\n",
        "  g.figure.set_size_inches(14,7)\n",
        "  plt.legend(title=\"Day of week\", loc = 2, bbox_to_anchor = (1,1))\n",
        "```\n",
        "\n",
        "![](https://drive.google.com/uc?export=view&id=1A3PIslJC4kwHPOulFTLAa7Nfx9cJNVDS)\n",
        "\n",
        "Fig. 8: Global average ride length for each day of week in minutes per month\n",
        "\n",
        "---"
      ],
      "metadata": {
        "id": "HyBDx8N6CdBF"
      }
    },
    {
      "cell_type": "code",
      "execution_count": null,
      "metadata": {
        "id": "pp05c-sgB77J"
      },
      "outputs": [],
      "source": [
        "# # Fig. 8\n",
        "# with sns.axes_style('whitegrid'):\n",
        "#   g = sns.barplot(data=df, \n",
        "#                   y='ride_length_minutes', \n",
        "#                   x='int_month', \n",
        "#                   order=months_order, \n",
        "#                   hue=\"day_of_week\", \n",
        "#                   hue_order=days_order, \n",
        "#                   palette=colors_day_of_week, \n",
        "#                   capsize=.15, \n",
        "#                   errwidth=0.2)\n",
        "#   g.set_title(\"Average ride length in minutes per month (2021 - 2022)\", fontsize=14, fontweight=\"bold\");\n",
        "#   g.set(xlabel=\"Month\", ylabel=\"Average ride length\")\n",
        "#   g.figure.set_size_inches(14,7)\n",
        "#   plt.legend(title=\"Day of week\", loc = 2, bbox_to_anchor = (1,1))\n"
      ]
    },
    {
      "cell_type": "markdown",
      "source": [
        "## 📈 Global Month x Avg Ride Length"
      ],
      "metadata": {
        "id": "nYmofUkZF9WX"
      }
    },
    {
      "cell_type": "markdown",
      "source": [
        "```python\n",
        "with sns.axes_style('whitegrid'):\n",
        "  graph = sns.pointplot(data=df, \n",
        "                        x=df[\"int_month\"], \n",
        "                        y=df[\"ride_length_minutes\"], \n",
        "                        hue=df[\"member_casual\"], \n",
        "                        order=months_order, \n",
        "                        palette=colors_member_casual,\n",
        "                        capsize=.15,\n",
        "                        errwidth=0.5)\n",
        "  graph.set_title(\"Average ride length in minutes per month\", fontsize=14, fontweight=\"bold\");\n",
        "  graph.set(xlabel=\"Month\", ylabel=\"Average ride length\")\n",
        "  graph.figure.set_size_inches(10,6)\n",
        "  plt.legend(loc = 2, bbox_to_anchor = (1,1))\n",
        "```\n",
        "\n",
        "![](https://drive.google.com/uc?export=view&id=1A3mWipLIq25q-QWp1taKHJqVbSZebVQH)\n",
        "\n",
        "Fig. 9: Average ride length in minutes per month by costumer type\n",
        "\n",
        "---"
      ],
      "metadata": {
        "id": "vS8Q1JxQC-mm"
      }
    },
    {
      "cell_type": "code",
      "source": [
        "# Fig 9:\n",
        "# with sns.axes_style('whitegrid'):\n",
        "#   graph = sns.pointplot(data=df, \n",
        "#                         x=df[\"int_month\"], \n",
        "#                         y=df[\"ride_length_minutes\"], \n",
        "#                         hue=df[\"member_casual\"], \n",
        "#                         order=months_order, \n",
        "#                         palette=colors_member_casual,\n",
        "#                         capsize=.15,\n",
        "#                         errwidth=0.5)\n",
        "#   graph.set_title(\"Average ride length in minutes per month\", fontsize=14, fontweight=\"bold\");\n",
        "#   graph.set(xlabel=\"Month\", ylabel=\"Average ride length\")\n",
        "#   graph.figure.set_size_inches(10,6)\n",
        "#   plt.legend(loc = 2, bbox_to_anchor = (1,1))"
      ],
      "metadata": {
        "id": "c7Z3ecPwnJmo"
      },
      "execution_count": 54,
      "outputs": []
    },
    {
      "cell_type": "markdown",
      "source": [
        "## 📈 Monthly Day of Week x Avg Lenght  "
      ],
      "metadata": {
        "id": "4g9mF0J3GMvr"
      }
    },
    {
      "cell_type": "code",
      "execution_count": 55,
      "metadata": {
        "id": "o5GUQBM1IN0N"
      },
      "outputs": [],
      "source": [
        "# Creates a list of df for each month \n",
        "months = [df.query(f'int_month == {i}') for i in range(1, 13)]"
      ]
    },
    {
      "cell_type": "markdown",
      "source": [
        "```python\n",
        "with sns.axes_style('whitegrid'):\n",
        "  fig, axes = plt.subplots(3, 4, figsize=(24, 12)) # sharex=True, \n",
        "  fig.suptitle(t='Mean ride length for each day of week, by month', fontsize=16, fontweight=\"bold\")\n",
        "  fig.subplots_adjust(hspace=0.3, wspace=0.3)\n",
        "\n",
        "  m = 6\n",
        "  year = 2021\n",
        "\n",
        "  for i in range(3):\n",
        "    for j in range(4):\n",
        "      g = sns.lineplot(ax=axes[i, j], x=months[m]['int_day_of_week'], y=months[m]['ride_length_minutes'], hue=months[m]['member_casual'], hue_order=[\"Member\", \"Casual\"], palette=colors_member_casual)\n",
        "      g.set(xlabel=\"Day of week\", ylabel=\"Average ride length\", ylim=(0, 33))\n",
        "      axes[i, j].set_title(f\"{month_names[m+1]} - {year}\", fontsize=14)\n",
        "      m += 1\n",
        "      if m == 12:\n",
        "        m = 0\n",
        "        year = 2022\n",
        "```\n",
        "![](https://drive.google.com/uc?export=view&id=19sXrVs4S2vbaHn0Pf2gFzT-XcOFChKxc)\n",
        "Fig. 10: Comparision of ride length for members and casual users by each day of week from July 2021 - June 2022 \n",
        "\n",
        "---\n"
      ],
      "metadata": {
        "id": "KUxtA6zhljFW"
      }
    },
    {
      "cell_type": "code",
      "execution_count": 56,
      "metadata": {
        "id": "XH2FcnSpv7QD"
      },
      "outputs": [],
      "source": [
        "# Fig. 10\n",
        "# with sns.axes_style('whitegrid'):\n",
        "#   fig, axes = plt.subplots(3, 4, figsize=(24, 12)) # sharex=True, \n",
        "#   fig.suptitle(t='Mean ride length for each day of week, by month', fontsize=16, fontweight=\"bold\")\n",
        "#   fig.subplots_adjust(hspace=0.3, wspace=0.3)\n",
        "\n",
        "#   m = 6\n",
        "#   year = 2021\n",
        "\n",
        "#   for i in range(3):\n",
        "#     for j in range(4):\n",
        "#       g = sns.lineplot(ax=axes[i, j], x=months[m]['int_day_of_week'], y=months[m]['ride_length_minutes'], hue=months[m]['member_casual'], hue_order=[\"Member\", \"Casual\"], palette=colors_member_casual)\n",
        "#       g.set(xlabel=\"Day of week\", ylabel=\"Average ride length\", ylim=(0, 33))\n",
        "#       axes[i, j].set_title(f\"{month_names[m+1]} - {year}\", fontsize=14)\n",
        "#       m += 1\n",
        "#       if m == 12:\n",
        "#         m = 0\n",
        "#         year = 2022"
      ]
    },
    {
      "cell_type": "markdown",
      "source": [
        "## 📊 Day of Week x Count"
      ],
      "metadata": {
        "id": "Cm6E8xqczz-Z"
      }
    },
    {
      "cell_type": "code",
      "execution_count": 57,
      "metadata": {
        "id": "a_PfbYuL84xW"
      },
      "outputs": [],
      "source": [
        "day_of_week = df[['day_of_week', 'ride_length', 'member_casual']].groupby(['day_of_week', 'member_casual'], as_index=False).agg('count')\n",
        "day_of_week.rename(columns={\"ride_length\": \"count\"}, inplace=True)"
      ]
    },
    {
      "cell_type": "markdown",
      "source": [
        "```python\n",
        "with sns.axes_style('whitegrid'):\n",
        "  days_count = sns.barplot(data=day_of_week, x='day_of_week', y='count', hue='member_casual', palette=colors_member_casual, order=days_order)\n",
        "  days_count.set_title(\"Total rides for each day of week\", fontsize=14, fontweight=\"bold\");\n",
        "  days_count.set(xlabel=\"Day of week\", ylabel=\"Count\")\n",
        "  days_count.figure.set_size_inches(10,6)\n",
        "  plt.legend(title=\"Costumer type\", loc = 2, bbox_to_anchor = (1,1))\n",
        "```\n",
        "\n",
        "![](https://drive.google.com/uc?export=view&id=19v3LDjVq9hJs6o4I_LPuGm18kKJzkhlI)\n",
        "\n",
        "Fig. 11: Total rides by member type for each day of week\n",
        "\n",
        "---"
      ],
      "metadata": {
        "id": "q7OHPmsgIx31"
      }
    },
    {
      "cell_type": "markdown",
      "source": [
        "## 📈 Day of Week x Count"
      ],
      "metadata": {
        "id": "_9t4Mv6zNEfY"
      }
    },
    {
      "cell_type": "markdown",
      "source": [
        "```python\n",
        "with sns.axes_style('whitegrid'):\n",
        "  days_count = sns.pointplot(data=day_of_week, x='day_of_week', y='count', hue='member_casual', palette=colors_member_casual, linewidth=3)\n",
        "  days_count.set_title(\"Total rides for each day of week\", fontsize=14, fontweight=\"bold\");\n",
        "  days_count.set(xlabel=\"Day of week\", ylabel=\"Count\")\n",
        "  days_count.figure.set_size_inches(10,6)\n",
        "  plt.legend(title=\"Costumer type\", loc = 2, bbox_to_anchor = (1,1))\n",
        "```\n",
        "\n",
        "![](https://drive.google.com/uc?export=view&id=19vTLAZknTpc9oWlUJWnds6o7QwJAsvc8)\n",
        "\n",
        "Fig. 12: Line plot of total rides for each day of week.\n",
        "\n",
        "---"
      ],
      "metadata": {
        "id": "eR8dkDkHJsTt"
      }
    },
    {
      "cell_type": "code",
      "execution_count": 58,
      "metadata": {
        "id": "1Gi2JZu-08Xu"
      },
      "outputs": [],
      "source": [
        "# Fig. 11:\n",
        "\n",
        "# with sns.axes_style('whitegrid'):\n",
        "#   days_count = sns.barplot(data=day_of_week, x='day_of_week', y='count', hue='member_casual', palette=colors_member_casual, order=days_order)\n",
        "#   days_count.set_title(\"Total rides for each day of week\", fontsize=14, fontweight=\"bold\");\n",
        "#   days_count.set(xlabel=\"Day of week\", ylabel=\"Count\")\n",
        "#   days_count.figure.set_size_inches(10,6)\n",
        "#   plt.legend(title=\"Costumer type\", loc = 2, bbox_to_anchor = (1,1))"
      ]
    },
    {
      "cell_type": "code",
      "source": [
        "#Fig. 12:\n",
        "# with sns.axes_style('whitegrid'):\n",
        "#   days_count = sns.pointplot(data=day_of_week, x='day_of_week', y='count', hue='member_casual', palette=colors_member_casual, linewidth=3)\n",
        "#   days_count.set_title(\"Total rides for each day of week\", fontsize=14, fontweight=\"bold\");\n",
        "#   days_count.set(xlabel=\"Day of week\", ylabel=\"Count\")\n",
        "#   days_count.figure.set_size_inches(10,6)\n",
        "#   plt.legend(title=\"Costumer type\", loc = 2, bbox_to_anchor = (1,1))"
      ],
      "metadata": {
        "id": "bovV07OYq7Nx"
      },
      "execution_count": 59,
      "outputs": []
    },
    {
      "cell_type": "markdown",
      "source": [
        "## 📊 Global Month x Count "
      ],
      "metadata": {
        "id": "b55xuxnW79eN"
      }
    },
    {
      "cell_type": "markdown",
      "source": [
        "```python\n",
        "with sns.axes_style('whitegrid'):\n",
        "  months_count = sns.barplot(data=grouped_months, x='int_month', y='count', hue='member_casual', order=months_order, palette=colors_member_casual)\n",
        "  months_count.set_title(\"Total rides for each month from July 2021 - June 2022\", fontsize=14, fontweight=\"bold\");\n",
        "  months_count.set(xlabel=\"Month\", ylabel=\"Count\")\n",
        "  months_count.figure.set_size_inches(10,6)\n",
        "  plt.legend(title=\"Member type\", loc = 2, bbox_to_anchor = (1,1))\n",
        "```\n",
        "![](https://drive.google.com/uc?export=view&id=19w6p2R193X9BIQDQYV4J63fhBO3gC2lQ)\n",
        "\n",
        "Fig. 13: Total number of rides by month\n",
        "\n",
        "---\n"
      ],
      "metadata": {
        "id": "YQ3rJyCzvvzF"
      }
    },
    {
      "cell_type": "code",
      "execution_count": 60,
      "metadata": {
        "id": "sy0_JMZe8vE6"
      },
      "outputs": [],
      "source": [
        "# Fig. 13\n",
        "# with sns.axes_style('whitegrid'):\n",
        "#   months_count = sns.barplot(data=grouped_months, x='int_month', y='count', hue='member_casual', order=months_order, palette=colors_member_casual)\n",
        "#   months_count.set_title(\"Total rides for each month from July 2021 - June 2022\", fontsize=14, fontweight=\"bold\");\n",
        "#   months_count.set(xlabel=\"Month\", ylabel=\"Count\")\n",
        "#   months_count.figure.set_size_inches(10,6)\n",
        "#   plt.legend(title=\"Member type\", loc = 2, bbox_to_anchor = (1,1))"
      ]
    },
    {
      "cell_type": "markdown",
      "source": [
        "## 📈 Global Month x Count "
      ],
      "metadata": {
        "id": "KKaWz-VENTLF"
      }
    },
    {
      "cell_type": "markdown",
      "source": [
        "```python\n",
        "with sns.axes_style('whitegrid'):\n",
        "  g = sns.pointplot(data=grouped_months, \n",
        "                             x='int_month', \n",
        "                             y='count', \n",
        "                             hue='member_casual', \n",
        "                             order=months_order, \n",
        "                             palette=colors_member_casual, \n",
        "                             linewidth=3)\n",
        "  g.set_title(\"Total rides by month\", fontsize=14, fontweight=\"bold\");\n",
        "  g.set(xlabel=\"Month\", ylabel=\"Count\")\n",
        "  g.figure.set_size_inches(10,6)\n",
        "  plt.legend(title=\"Costumer type\", loc = 2, bbox_to_anchor = (1,1))\n",
        "```\n",
        "\n",
        "![](https://drive.google.com/uc?export=view&id=19yx-AyyekZmA4pWDK4IJqucbkKR0CKIv)\n",
        "\n",
        "Fig. 14: Total rides by month\n",
        "\n",
        "---\n",
        "\n"
      ],
      "metadata": {
        "id": "DsXYGVjjwXLN"
      }
    },
    {
      "cell_type": "code",
      "source": [
        "# Fig. 14:\n",
        "# with sns.axes_style('whitegrid'):\n",
        "#   g = sns.pointplot(data=grouped_months, \n",
        "#                              x='int_month', \n",
        "#                              y='count', \n",
        "#                              hue='member_casual', \n",
        "#                              order=months_order, \n",
        "#                              palette=colors_member_casual, \n",
        "#                              linewidth=3)\n",
        "#   g.set_title(\"Total rides by month\", fontsize=14, fontweight=\"bold\");\n",
        "#   g.set(xlabel=\"Month\", ylabel=\"Count\")\n",
        "#   g.figure.set_size_inches(10,6)\n",
        "#   plt.legend(title=\"Costumer type\", loc = 2, bbox_to_anchor = (1,1))"
      ],
      "metadata": {
        "id": "tGihXPm3u5z-"
      },
      "execution_count": 61,
      "outputs": []
    },
    {
      "cell_type": "markdown",
      "source": [
        "## 📈 Month x Count & Month x Avg Length"
      ],
      "metadata": {
        "id": "RvwD1GzA8und"
      }
    },
    {
      "cell_type": "code",
      "execution_count": 62,
      "metadata": {
        "id": "upyfOogX8rOF"
      },
      "outputs": [],
      "source": [
        "grouped_months= df[['int_month', 'ride_length', 'member_casual']].groupby(['int_month', 'member_casual'], as_index=False, sort=False).agg('count')\n",
        "grouped_months.rename(columns={\"ride_length\": \"count\"}, inplace=True)"
      ]
    },
    {
      "cell_type": "code",
      "execution_count": 63,
      "metadata": {
        "id": "hW2Km-MJC4_3"
      },
      "outputs": [],
      "source": [
        "grouped_months_mean= df[['int_month', 'ride_length_minutes', 'member_casual']].groupby(['int_month', 'member_casual'], sort=False, as_index=False).agg('mean')"
      ]
    },
    {
      "cell_type": "markdown",
      "source": [
        "```python\n",
        "with sns.axes_style('whitegrid'):\n",
        "  fig, axes = plt.subplots(1, 2, figsize=(15, 6))\n",
        "  fig.suptitle('Ride counts and average ride lenght')\n",
        " \n",
        "\n",
        "  m = 6\n",
        "  year = 2021\n",
        "\n",
        "  sns.pointplot(ax=axes[0], data=grouped_months, x='int_month', y='count', hue='member_casual', order=months_order, palette=colors_member_casual, linewidth=2)\n",
        "  axes[0].set_title(\"Month x Total rides\")\n",
        "  axes[0].set(xlabel=\"Month (2021 - 2022)\")\n",
        "\n",
        "  sns.pointplot(ax=axes[1], data=grouped_months_mean, x='int_month', y='ride_length_minutes', hue='member_casual', order=months_order, palette=colors_member_casual, linewidth=2)\n",
        "  axes[1].set_title(\"Month x Ride length\")\n",
        "  axes[1].set(xlabel=\"Month (2021 - 2022)\")\n",
        "  axes[1].set(ylabel=\"Average ride length (min)\")\n",
        "  plt.legend(title=\"Costumer type\", loc = 2, bbox_to_anchor = (1,1))\n",
        "```\n",
        "![](https://drive.google.com/uc?export=view&id=19zWGsA4doJvpyg6mo06_Tf6GpJPjHAkS)\n",
        "\n",
        "Fig. 15: Total ride and average ride length by month by costumer type\n",
        "\n",
        "---\n"
      ],
      "metadata": {
        "id": "RcYFD3MjxY51"
      }
    },
    {
      "cell_type": "code",
      "execution_count": 64,
      "metadata": {
        "id": "P9YMNW-6C5F8"
      },
      "outputs": [],
      "source": [
        "# Fig. 15:\n",
        "# with sns.axes_style('whitegrid'):\n",
        "#   fig, axes = plt.subplots(1, 2, figsize=(15, 6))\n",
        "#   fig.suptitle('Ride counts and average ride lenght')\n",
        " \n",
        "\n",
        "#   m = 6\n",
        "#   year = 2021\n",
        "\n",
        "#   sns.pointplot(ax=axes[0], data=grouped_months, x='int_month', y='count', hue='member_casual', order=months_order, palette=colors_member_casual, linewidth=2)\n",
        "#   axes[0].set_title(\"Month x Total rides\")\n",
        "#   axes[0].set(xlabel=\"Month (2021 - 2022)\")\n",
        "\n",
        "#   sns.pointplot(ax=axes[1], data=grouped_months_mean, x='int_month', y='ride_length_minutes', hue='member_casual', order=months_order, palette=colors_member_casual, linewidth=2)\n",
        "#   axes[1].set_title(\"Month x Ride length\")\n",
        "#   axes[1].set(xlabel=\"Month (2021 - 2022)\")\n",
        "#   axes[1].set(ylabel=\"Average ride length (min)\")\n",
        "#   plt.legend(title=\"Costumer type\", loc = 2, bbox_to_anchor = (1,1))"
      ]
    },
    {
      "cell_type": "markdown",
      "source": [
        "## 📈 Monthly Day of Week x Count\n"
      ],
      "metadata": {
        "id": "gT-uynBK8Ham"
      }
    },
    {
      "cell_type": "code",
      "execution_count": 65,
      "metadata": {
        "id": "AoS9OOFrFBqa"
      },
      "outputs": [],
      "source": [
        "month_day_of_week = df[['int_month', 'int_day_of_week', 'ride_length', 'member_casual']].groupby(['int_month', 'int_day_of_week', 'member_casual'], as_index=False).agg('count')\n",
        "month_day_of_week.rename(columns={\"ride_length\": \"count\"}, inplace=True)"
      ]
    },
    {
      "cell_type": "markdown",
      "source": [
        "\n",
        "```python\n",
        "with sns.axes_style('whitegrid'):\n",
        "  fig, axes = plt.subplots(3, 4, figsize=(24, 12), sharey=True) # sharex=True, \n",
        "  fig.suptitle(t='Ride count for each day of week, by month', fontsize=16, fontweight=\"bold\")\n",
        "  fig.subplots_adjust(hspace=0.3, wspace=0.3)\n",
        "  # fig.legend(labels=labels, loc='lower right', bbox_to_anchor=(1,-0.1), ncol=len(labels), bbox_transform=fig.transFigure)\n",
        "\n",
        "  m = 6\n",
        "  year = 2021\n",
        "\n",
        "  for i in range(3):\n",
        "    for j in range(4):\n",
        "      month_df = month_day_of_week.query(f'int_month == {m}')\n",
        "      gf = sns.pointplot(ax=axes[i, j], data=month_df, x='int_day_of_week', y='count', hue='member_casual', hue_order=[\"Member\", \"Casual\"], palette=colors_member_casual)\n",
        "      gf.set(xlabel=\"Day of week\", ylabel=\"Count\")\n",
        "      axes[i, j].set_title(f\"{month_names[m]} - {year}\", fontsize=14)\n",
        "      m += 1\n",
        "      if m == 13:\n",
        "        m = 1\n",
        "        year = 2022\n",
        "```\n",
        "\n",
        "![](https://drive.google.com/uc?export=view&id=19zaSYlI5tuV8pAKhvLMWz8nVFLowE88r)\n",
        "Fig. 16: Daily number of rides by months\n"
      ],
      "metadata": {
        "id": "LLJdPXR0CGg9"
      }
    },
    {
      "cell_type": "code",
      "execution_count": 66,
      "metadata": {
        "id": "-8k7DdWIgjLj"
      },
      "outputs": [],
      "source": [
        "# Fig. 16:\n",
        "# with sns.axes_style('whitegrid'):\n",
        "#   fig, axes = plt.subplots(3, 4, figsize=(24, 12), sharey=True) # sharex=True, \n",
        "#   fig.suptitle(t='Ride count for each day of week, by month', fontsize=16, fontweight=\"bold\")\n",
        "#   fig.subplots_adjust(hspace=0.3, wspace=0.3)\n",
        "#   # fig.legend(labels=labels, loc='lower right', bbox_to_anchor=(1,-0.1), ncol=len(labels), bbox_transform=fig.transFigure)\n",
        "\n",
        "#   m = 6\n",
        "#   year = 2021\n",
        "\n",
        "#   for i in range(3):\n",
        "#     for j in range(4):\n",
        "#       month_df = month_day_of_week.query(f'int_month == {m}')\n",
        "#       gf = sns.pointplot(ax=axes[i, j], data=month_df, x='int_day_of_week', y='count', hue='member_casual', hue_order=[\"Member\", \"Casual\"], palette=colors_member_casual)\n",
        "#       gf.set(xlabel=\"Day of week\", ylabel=\"Count\")\n",
        "#       axes[i, j].set_title(f\"{month_names[m]} - {year}\", fontsize=14)\n",
        "#       m += 1\n",
        "#       if m == 13:\n",
        "#         m = 1\n",
        "#         year = 2022"
      ]
    },
    {
      "cell_type": "markdown",
      "source": [
        "## 📊 Global Hour X Count"
      ],
      "metadata": {
        "id": "bVKPUUq57v4p"
      }
    },
    {
      "cell_type": "code",
      "source": [
        "hour_count = df[['hour', 'ride_length', 'member_casual']].groupby(['hour', 'member_casual'], as_index=False).agg('count')\n",
        "hour_count.rename(columns={\"ride_length\": \"count\"}, inplace=True)"
      ],
      "metadata": {
        "id": "XK2CbF780SVN"
      },
      "execution_count": 67,
      "outputs": []
    },
    {
      "cell_type": "markdown",
      "source": [
        "```python\n",
        "with sns.axes_style('whitegrid'):\n",
        "  h = sns.barplot(data=hour_count, x='hour', y='count', hue='member_casual', palette=colors_member_casual)\n",
        "  h.set_title(\"Total rides for each hour\", fontsize=14, fontweight=\"bold\");\n",
        "  h.set(xlabel=\"Hour\", ylabel=\"Count\")\n",
        "  h.figure.set_size_inches(12,6)\n",
        "  plt.legend(title=\"Member type\", loc = 2, bbox_to_anchor = (1,1))\n",
        "```\n",
        "\n",
        "![](https://drive.google.com/uc?export=view&id=1A-XecmHdv7bDyGu2dBuqUe5nuHyHfVDB)\n",
        "\n",
        "Fig. 17: Bar chart for hourly global number of rides\n",
        "\n",
        "---"
      ],
      "metadata": {
        "id": "LpMMXhfpDBcP"
      }
    },
    {
      "cell_type": "code",
      "source": [
        "# Fig. 17:\n",
        "# with sns.axes_style('whitegrid'):\n",
        "#   h = sns.barplot(data=hour_count, x='hour', y='count', hue='member_casual', palette=colors_member_casual)\n",
        "#   h.set_title(\"Total rides for each hour\", fontsize=14, fontweight=\"bold\");\n",
        "#   h.set(xlabel=\"Hour\", ylabel=\"Count\")\n",
        "#   h.figure.set_size_inches(12,6)\n",
        "#   plt.legend(title=\"Member type\", loc = 2, bbox_to_anchor = (1,1))"
      ],
      "metadata": {
        "id": "i2rzulQI0cyt"
      },
      "execution_count": 68,
      "outputs": []
    },
    {
      "cell_type": "markdown",
      "source": [
        "## 📈 Global Hour X Count"
      ],
      "metadata": {
        "id": "6iY25KlMN-Dl"
      }
    },
    {
      "cell_type": "markdown",
      "source": [
        "```python\n",
        "with sns.axes_style('whitegrid'):\n",
        "  h = sns.pointplot(data=hour_count, x='hour', y='count', hue='member_casual', palette=colors_member_casual)\n",
        "  h.set_title(\"Total rides for each hour\", fontsize=14, fontweight=\"bold\");\n",
        "  h.set(xlabel=\"Hour\", ylabel=\"Count\")\n",
        "  h.figure.set_size_inches(12,6)\n",
        "  plt.legend(title=\"Member type\", loc = 2, bbox_to_anchor = (1,1))\n",
        "```\n",
        "![](https://drive.google.com/uc?export=view&id=1A-YMeiG46oPs9h5fItcvgxlyZ6cN7v1Q)\n",
        "\n",
        "Fig. 18: Line chart for hourly global number of rides"
      ],
      "metadata": {
        "id": "R3LrZ5LWDeO_"
      }
    },
    {
      "cell_type": "code",
      "source": [
        "# Fig. 18:\n",
        "# with sns.axes_style('whitegrid'):\n",
        "#   h = sns.pointplot(data=hour_count, x='hour', y='count', hue='member_casual', palette=colors_member_casual)\n",
        "#   h.set_title(\"Total rides for each hour\", fontsize=14, fontweight=\"bold\");\n",
        "#   h.set(xlabel=\"Hour\", ylabel=\"Count\")\n",
        "#   h.figure.set_size_inches(12,6)\n",
        "#   plt.legend(title=\"Member type\", loc = 2, bbox_to_anchor = (1,1))"
      ],
      "metadata": {
        "id": "OEFnR8_k3-6E"
      },
      "execution_count": 69,
      "outputs": []
    },
    {
      "cell_type": "markdown",
      "source": [
        "## 📉 Monthly Hour x Count "
      ],
      "metadata": {
        "id": "0jwukCda9Kbr"
      }
    },
    {
      "cell_type": "code",
      "source": [
        "hour_month_count = df[['hour', 'ride_length', 'int_month', 'member_casual']].groupby(['int_month', 'hour', 'member_casual'], as_index=False).agg('count')\n",
        "hour_month_count.rename(columns={\"ride_length\": \"count\"}, inplace=True)"
      ],
      "metadata": {
        "id": "OVdcPDNt03Or"
      },
      "execution_count": 70,
      "outputs": []
    },
    {
      "cell_type": "markdown",
      "source": [
        "```python\n",
        "with sns.axes_style('whitegrid'):\n",
        "  fig, axes = plt.subplots(3, 4, figsize=(24, 12), sharey=True) # sharex=True, \n",
        "  fig.suptitle(t='Ride count for hour, by month', fontsize=16, fontweight=\"bold\")\n",
        "  fig.subplots_adjust(hspace=0.3, wspace=0.15)\n",
        "  # fig.legend(labels=labels, loc='lower right', bbox_to_anchor=(1,-0.1), ncol=len(labels), bbox_transform=fig.transFigure)\n",
        "\n",
        "  m = 7\n",
        "  year = 2021\n",
        "\n",
        "  for i in range(3):\n",
        "    for j in range(4):\n",
        "      month_df = hour_month_count.query(f'int_month == {m}')\n",
        "      gf = sns.lineplot(ax=axes[i, j], data=month_df, x='hour', y='count', hue='member_casual', hue_order=[\"Member\", \"Casual\"], palette=colors_member_casual)\n",
        "      gf.set(xlabel=\"Hour\", ylabel=\"Count\")\n",
        "      axes[i, j].set_title(f\"{month_names[m]} - {year}\", fontsize=14)\n",
        "      m += 1\n",
        "      if m == 13:\n",
        "        m = 1\n",
        "        year = 2022\n",
        "```\n",
        "![](https://drive.google.com/uc?export=view&id=1A0ya15SJqwMwMT9mYSeTWQknqq141rG9)\n",
        "\n",
        "Fig. 19: Monthly number of rides by hour from July 2021 - June 2022"
      ],
      "metadata": {
        "id": "4oETxfYxEF_A"
      }
    },
    {
      "cell_type": "code",
      "source": [
        "# Fig. 19:\n",
        "# with sns.axes_style('whitegrid'):\n",
        "#   fig, axes = plt.subplots(3, 4, figsize=(24, 12), sharey=True) # sharex=True, \n",
        "#   fig.suptitle(t='Ride count for hour, by month', fontsize=16, fontweight=\"bold\")\n",
        "#   fig.subplots_adjust(hspace=0.3, wspace=0.15)\n",
        "#   # fig.legend(labels=labels, loc='lower right', bbox_to_anchor=(1,-0.1), ncol=len(labels), bbox_transform=fig.transFigure)\n",
        "\n",
        "#   m = 7\n",
        "#   year = 2021\n",
        "\n",
        "#   for i in range(3):\n",
        "#     for j in range(4):\n",
        "#       month_df = hour_month_count.query(f'int_month == {m}')\n",
        "#       gf = sns.lineplot(ax=axes[i, j], data=month_df, x='hour', y='count', hue='member_casual', hue_order=[\"Member\", \"Casual\"], palette=colors_member_casual)\n",
        "#       gf.set(xlabel=\"Hour\", ylabel=\"Count\")\n",
        "#       axes[i, j].set_title(f\"{month_names[m]} - {year}\", fontsize=14)\n",
        "#       m += 1\n",
        "#       if m == 13:\n",
        "#         m = 1\n",
        "#         year = 2022"
      ],
      "metadata": {
        "id": "wRbAde4IiwJ4"
      },
      "execution_count": 71,
      "outputs": []
    },
    {
      "cell_type": "markdown",
      "source": [
        "# Pivot tables and Heatmaps"
      ],
      "metadata": {
        "id": "SIT5UYX0Zsa9"
      }
    },
    {
      "cell_type": "markdown",
      "source": [
        "## 💠 Month x Day of week"
      ],
      "metadata": {
        "id": "8UDXHKbE5aS6"
      }
    },
    {
      "cell_type": "code",
      "source": [
        "day_month_count = df[['int_month', 'ride_length', 'day_of_week']].groupby(['int_month', 'day_of_week'], as_index=False, sort=False).agg('count')\n",
        "day_month_count.rename(columns={\"ride_length\": \"count\"}, inplace=True)"
      ],
      "metadata": {
        "id": "SB5lyOkjZsHO"
      },
      "execution_count": 72,
      "outputs": []
    },
    {
      "cell_type": "code",
      "source": [
        "pivot_day_month = day_month_count.pivot(\"day_of_week\", \"int_month\", \"count\")\n",
        "pivot_day_month = pivot_day_month.reindex(months_order, axis=1)"
      ],
      "metadata": {
        "id": "SM1vVihsaAiX"
      },
      "execution_count": 73,
      "outputs": []
    },
    {
      "cell_type": "markdown",
      "source": [
        "```python\n",
        "heatmd = sns.heatmap(data=pivot_day_month, cmap=\"Spectral_r\")\n",
        "heatmd.set_title(\"Rides per day of week for each month \", fontsize=14, fontweight=\"bold\")\n",
        "heatmd.set(xlabel=\"Month\", ylabel=\"Day of Week\")\n",
        "heatmd.figure.set_size_inches(10,4)\n",
        "```\n",
        "\n",
        "![](https://drive.google.com/uc?export=view&id=1A18rZVqwKZTcbAGW500aPxSJG6PDSYD1)\n",
        "\n",
        "Fig. 20: Heat map of number of rides Month X Week day\n",
        "\n",
        "---"
      ],
      "metadata": {
        "id": "9OSb435WFE7u"
      }
    },
    {
      "cell_type": "code",
      "source": [
        "# Fig. 20:\n",
        "# heatmd = sns.heatmap(data=pivot_day_month, cmap=\"Spectral_r\")\n",
        "# heatmd.set_title(\"Rides per day of week for each month \", fontsize=14, fontweight=\"bold\")\n",
        "# heatmd.set(xlabel=\"Month\", ylabel=\"Day of Week\")\n",
        "# heatmd.figure.set_size_inches(10,4)"
      ],
      "metadata": {
        "id": "XX2sKambaO41"
      },
      "execution_count": 74,
      "outputs": []
    },
    {
      "cell_type": "markdown",
      "source": [
        "## 💠 Day of week x Hour"
      ],
      "metadata": {
        "id": "zIFkxKRnZRXU"
      }
    },
    {
      "cell_type": "markdown",
      "source": [
        "### Global "
      ],
      "metadata": {
        "id": "zNDH5JYj5mH0"
      }
    },
    {
      "cell_type": "code",
      "source": [
        "# Creating dataframe\n",
        "hour_day_count = df[['hour', 'ride_length', 'day_of_week']].groupby(['day_of_week', 'hour'], as_index=False).agg('count')\n",
        "hour_day_count.rename(columns={\"ride_length\": \"count\"}, inplace=True)"
      ],
      "metadata": {
        "id": "7WdeziDINxFr"
      },
      "execution_count": 75,
      "outputs": []
    },
    {
      "cell_type": "code",
      "source": [
        "pivot_hour_day = hour_day_count.pivot(\"day_of_week\", \"hour\", \"count\")\n",
        "pivot_hour_day = pivot_hour_day.reindex(days_order, axis=0)"
      ],
      "metadata": {
        "id": "vFLHuMdKR0Vy"
      },
      "execution_count": 76,
      "outputs": []
    },
    {
      "cell_type": "markdown",
      "source": [
        "```python\n",
        "heatdh = sns.heatmap(data=pivot_hour_day, cmap=\"Spectral_r\")\n",
        "heatdh.set_title(\"Rides per hour for each day of week \", fontsize=14, fontweight=\"bold\")\n",
        "heatdh.set(xlabel=\"Hour\", ylabel=\"Day of week\")\n",
        "heatdh.figure.set_size_inches(12,5)\n",
        "```\n",
        "![](https://drive.google.com/uc?export=view&id=1A2TKqAPDcDtLTDg0i8Id4kuB6jey9tdf)\n",
        "\n",
        "Fig. 21: Heatmap of global number of rides Hour x Day of week\n",
        "\n",
        "---\n"
      ],
      "metadata": {
        "id": "2qQ83WhMFpA0"
      }
    },
    {
      "cell_type": "code",
      "source": [
        "# Fig. 21:\n",
        "# heatdh = sns.heatmap(data=pivot_hour_day, cmap=\"Spectral_r\")\n",
        "# heatdh.set_title(\"Rides per hour for each day of week \", fontsize=14, fontweight=\"bold\")\n",
        "# heatdh.set(xlabel=\"Hour\", ylabel=\"Day of week\")\n",
        "# heatdh.figure.set_size_inches(12,5)"
      ],
      "metadata": {
        "id": "_Bw7RFHrRrVI"
      },
      "execution_count": 77,
      "outputs": []
    },
    {
      "cell_type": "markdown",
      "source": [
        "No acumulado é possível notar que 17 horas é o horário que mais se utiliza a bicicleta durante a semana"
      ],
      "metadata": {
        "id": "1gVNbCaucwqX"
      }
    },
    {
      "cell_type": "markdown",
      "source": [
        "### Members"
      ],
      "metadata": {
        "id": "lz9fUZdmfsxY"
      }
    },
    {
      "cell_type": "code",
      "source": [
        "hour_day_count_member = df.query(\"member_casual == 'Member'\")[['hour', 'ride_length', 'day_of_week']].groupby(['day_of_week', 'hour'], as_index=False).agg('count')\n",
        "hour_day_count_member.rename(columns={\"ride_length\": \"count\"}, inplace=True)"
      ],
      "metadata": {
        "id": "7tF298DPdSob"
      },
      "execution_count": 78,
      "outputs": []
    },
    {
      "cell_type": "code",
      "source": [
        "pivot_hd_member = hour_day_count_member.pivot(\"day_of_week\", \"hour\", \"count\")\n",
        "pivot_hd_member = pivot_hd_member.reindex(days_order, axis=0)"
      ],
      "metadata": {
        "id": "8FdYb1BpemOA"
      },
      "execution_count": 79,
      "outputs": []
    },
    {
      "cell_type": "markdown",
      "source": [
        "\n",
        "```python\n",
        "heatdhm = sns.heatmap(data=pivot_hd_member, cmap=\"Spectral_r\")\n",
        "heatdhm.set_title(\"Rides per hour for each day of week by members\", fontsize=14, fontweight=\"bold\")\n",
        "heatdhm.set(xlabel=\"Hour\", ylabel=\"Day of week\")\n",
        "heatdhm.figure.set_size_inches(10,4)\n",
        "```\n",
        "\n",
        "![](https://drive.google.com/uc?export=view&id=1A2bKF1ZjFa4qNxVixP8BRH8o95R-lozz)\n",
        "\n",
        "Fig. 22: Heat map of members number of rides - Hour x Day of week\n",
        "\n"
      ],
      "metadata": {
        "id": "R8cIP_g7F65L"
      }
    },
    {
      "cell_type": "code",
      "source": [
        "# Fig. 22:\n",
        "# heatdhm = sns.heatmap(data=pivot_hd_member, cmap=\"Spectral_r\")\n",
        "# heatdhm.set_title(\"Rides per hour for each day of week by members\", fontsize=14, fontweight=\"bold\")\n",
        "# heatdhm.set(xlabel=\"Hour\", ylabel=\"Day of week\")\n",
        "# heatdhm.figure.set_size_inches(10,4)"
      ],
      "metadata": {
        "id": "O6cX055beryl"
      },
      "execution_count": 80,
      "outputs": []
    },
    {
      "cell_type": "markdown",
      "source": [
        "Plotting a heat map of members ride count for hour by each day of week"
      ],
      "metadata": {
        "id": "ouW5DTWJ41Dn"
      }
    },
    {
      "cell_type": "markdown",
      "source": [
        "### Casual"
      ],
      "metadata": {
        "id": "D4_xj1kl50fy"
      }
    },
    {
      "cell_type": "code",
      "source": [
        "hour_day_count_casual = df.query(\"member_casual == 'Casual'\")[['hour', 'member_casual', 'day_of_week']].groupby(['day_of_week', 'hour'], as_index=False).agg('count')\n",
        "hour_day_count_casual.rename(columns={\"member_casual\": \"count\"}, inplace=True)\n"
      ],
      "metadata": {
        "id": "zPyoFQY0d1UQ"
      },
      "execution_count": 81,
      "outputs": []
    },
    {
      "cell_type": "code",
      "source": [
        "pivot_hd_casual = hour_day_count_casual.pivot(\"day_of_week\", \"hour\", \"count\")\n",
        "pivot_hd_casual = pivot_hd_casual.reindex(days_order, axis=0)"
      ],
      "metadata": {
        "id": "1dMop2gXf58x"
      },
      "execution_count": 82,
      "outputs": []
    },
    {
      "cell_type": "markdown",
      "source": [
        "```python\n",
        "heatdhc = sns.heatmap(data=pivot_hd_casual, cmap=\"Spectral_r\")\n",
        "heatdhc.set_title(\"Rides per hour for each day of week by casual users\", fontsize=14, fontweight=\"bold\")\n",
        "heatdhc.set(xlabel=\"Hour\", ylabel=\"Day of week\")\n",
        "heatdhc.figure.set_size_inches(10,4)\n",
        "```\n",
        "\n",
        "![](https://drive.google.com/uc?export=view&id=1A2cXGUsCmlpkcScXz3Wpat__IFTqeAEL)\n",
        "\n",
        "Fig. 23: Heat map of casual users number of rides - Hour x Day of week"
      ],
      "metadata": {
        "id": "pyb_gWnrGobo"
      }
    },
    {
      "cell_type": "code",
      "source": [
        "# Fig. 23:\n",
        "# heatdhc = sns.heatmap(data=pivot_hd_casual, cmap=\"Spectral_r\")\n",
        "# heatdhc.set_title(\"Rides per hour for each day of week by casual users\", fontsize=14, fontweight=\"bold\")\n",
        "# heatdhc.set(xlabel=\"Hour\", ylabel=\"Day of week\")\n",
        "# heatdhc.figure.set_size_inches(10,4)"
      ],
      "metadata": {
        "id": "1RDYp4wdgKOH"
      },
      "execution_count": 83,
      "outputs": []
    },
    {
      "cell_type": "code",
      "source": [
        "# Create subplots of heatmap for comparision\n",
        "# Add a title with emoji in markdown cells to identify them"
      ],
      "metadata": {
        "id": "NVl2Xs0ahgtW"
      },
      "execution_count": 84,
      "outputs": []
    },
    {
      "cell_type": "code",
      "source": [
        ""
      ],
      "metadata": {
        "id": "IPMFgG8XG8pQ"
      },
      "execution_count": 84,
      "outputs": []
    }
  ],
  "metadata": {
    "colab": {
      "collapsed_sections": [],
      "name": "data-processing.ipynb",
      "provenance": [],
      "toc_visible": true,
      "include_colab_link": true
    },
    "kernelspec": {
      "display_name": "Python 3 (ipykernel)",
      "language": "python",
      "name": "python3"
    },
    "language_info": {
      "codemirror_mode": {
        "name": "ipython",
        "version": 3
      },
      "file_extension": ".py",
      "mimetype": "text/x-python",
      "name": "python",
      "nbconvert_exporter": "python",
      "pygments_lexer": "ipython3",
      "version": "3.9.12"
    }
  },
  "nbformat": 4,
  "nbformat_minor": 0
}